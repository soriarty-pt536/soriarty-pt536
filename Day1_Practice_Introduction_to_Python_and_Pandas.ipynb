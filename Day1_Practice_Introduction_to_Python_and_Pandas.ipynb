{
  "cells": [
    {
      "cell_type": "markdown",
      "metadata": {
        "id": "view-in-github",
        "colab_type": "text"
      },
      "source": [
        "<a href=\"https://colab.research.google.com/github/soriarty-pt536/soriarty-pt536/blob/main/Day1_Practice_Introduction_to_Python_and_Pandas.ipynb\" target=\"_parent\"><img src=\"https://colab.research.google.com/assets/colab-badge.svg\" alt=\"Open In Colab\"/></a>"
      ]
    },
    {
      "cell_type": "markdown",
      "metadata": {
        "id": "2OaUS7kOZB2p"
      },
      "source": [
        "# Paradigms of programming:\n",
        "\n",
        "Programming, in abstract is the activity that executes instructions on data stored in the main memory of a computer. This activity can be carried out in multiple ways / structures. Different paradigms of programming represent different styles of thinking about how you structure this activity.\n",
        "\n",
        "<img src=\"https://adriancolyer.files.wordpress.com/2019/01/Programming-paradigms-Fig-2.png\" width=85%>\n",
        "\n",
        "[Source](https://blog.acolyer.org/2019/01/25/programming-paradigms-for-dummies-what-every-programmer-should-know/)\n",
        "\n",
        "**Common programming paradigms include:**\n",
        "\n",
        "- **Imperative** in which the programmer instructs the machine how to change its state,\n",
        "\t- **procedural** which groups instructions into procedures,\n",
        "\t- **object-oriented** which groups instructions together with the part of the state they operate on,\n",
        "- **Declarative** in which the programmer merely declares properties of the desired result, but not how to compute it\n",
        "\t- **functional** in which the desired result is declared as the value of a series of function applications,\n",
        "\t- **logic** in which the desired result is declared as the answer to a question about a system of facts and rules,\n",
        "\t- **mathematical** in which the desired result is declared as the solution of an optimization problem\n",
        "\n",
        "[Wikipedia](https://en.wikipedia.org/wiki/Programming_paradigm)\n",
        "\n",
        "# Procedural programming\n",
        "\n",
        "The data we are concerned with is typically in the form of **Variables**, containers for values (at certain locations of the memory, typically accessible by a human readable, given _variable name_). We typically assign the names and values of variables ourselves.\n",
        "\n",
        "Example:\n",
        "\n",
        "`variable_name = 10`\n",
        "\n",
        "Please observe, that in this case the `=` operator stood for _let it be equal_ or _assign value to_. This is a different operation than comparing two values and _asking if they are equal_ (that would have been `variable_name == 10` if we are using Python).\n",
        "\n",
        "Procedural programming starts from the notion, that a set of actions on the data we would typically like to run more than once.\n",
        "\n",
        "More precisely:\n",
        "\n",
        "\"Procedural programming is a programming paradigm, derived from structured programming, based on the concept of the procedure call. Procedures, also known as routines, subroutines, or **functions**, simply contain a **series of computational steps to be carried out**. Any given procedure might be called at any point during a program's execution, including by other procedures or itself.\"\n",
        "\n",
        "[Wikipedia](https://en.wikipedia.org/wiki/Procedural_programming)\n",
        "\n",
        "**So a function is just a set of instructions (themselves often functions) to take some input, manipulate it and give back an output.**\n",
        "\n",
        "A function has no notion of \"state\", so it should ideally operate the same on the same input whenever it is callled, irrespective of any context change, meaning: whatever _else_ is in memory, the function has to have the same effect, and only on the variables (parameters) it was given. It is **not** a good practice, to make a function modify variables outside of it's _\"scope\"_. (\"Don't touch variables you were not given!\") \n",
        "\n",
        "(Sidenote: In functional programming function can be considered as equivalent to the mathematical notion of function, that is, it \"maps\" or \"transforms\" the input data into the output data.)\n",
        "\n",
        "\n",
        "There are multiple layers of functions in programming languages, the language comes with it's own set built-in functions, and we can define our own ones for re-use, as well as using **other people's functions contained in packages**.\n",
        "\n",
        "In case of Python the structure looks like this:\n",
        "\n",
        "<img src=\"https://d2h0cx97tjks2p.cloudfront.net/blogs/wp-content/uploads/sites/2/2018/01/Python-Functions.jpg\" width=65%>\n",
        "\n",
        "## Basic structure of a function is:\n",
        "\n",
        "Suppose I want to bundle together the execution of to actions on variables. \n",
        "\n",
        "Let us see how the anatomy of such a function would look like:\n",
        "\n",
        "```python\n",
        "definition_keyword the_name_of_the_function(with_this, with_that):\n",
        "    local_variable = 10\n",
        "\tdo_something(with_this)\n",
        "\tdo_something_else(with_that, local_variable)\n",
        "\tfinish_and_give_back_results \n",
        "```\n",
        "\n",
        "In this description the `definition_keyword` is a fixed keyword (`def` in Python), which marks the beginning of the function definition (together with `:` in Python, discussed below), and inside the brackets there are the variables / _parameters_ `with_this` and `with_that` on which the function should operate. (In Python, brackets themselves mark the fact that this is a function call, so they are mandatory, even if there are no parameters.)\n",
        "\n",
        "From definition to finish this represents the _body of the function_.\n",
        "\n",
        "`do_something` and `do_something_else` are some actions you can carry out, typically other system or user defined functions. \n",
        "\n",
        "Please observe, that I am at liberty to define new variables inside a function and use them. These variables remained _\"inside the scope of\"_ the function, meaning when the function finishes, _they get deleted_, so they are only accessible inside the function, temporarily.\n",
        "\n",
        "# Object oriented programming: Classes vs Object instances \n",
        "\n",
        "\n",
        "Classes are abstract containers of code and data, that often represent real life abstract entities / functionalities. (\"TheStudent\" is someone, who can have this and that property and who can carry out this or that function - in abstract.)\n",
        "\n",
        "<img src=\"http://drive.google.com/uc?export=view&id=1RGTfY3TRE--541fBsCXgGd0qaVCBsSuV\" width=65%>\n",
        "\n",
        "One can not execute (call) a function of a class (\"TheStudent\" in abstract), just a function of an instance (\"john\", a particular student \"instance\" - that's why poor john is lowercase, since it's customary for instances.).\n",
        "\n",
        "For this, one has to \"instantiate\" a class, that is, create a particular instance.\n",
        "\n",
        "```python\n",
        "\n",
        "john = TheStudent()\n",
        "\n",
        "# Meaning: Let us create an instance of student and put him into the variable 'john'\n",
        "\n",
        "# Please observe the usage of CamelCase - customary for classes!\n",
        "# Please observe the () syntax, which we will discuss later (In this case it calls the __init__ function of the Class) \n",
        "```\n",
        "\n",
        "After this we can call a function of it.\n",
        "\n",
        "```python\n",
        "\n",
        "john.do_homework(when=\"now\")\n",
        "\n",
        "# More on function calling syntax later.\n",
        "```\n",
        "\n",
        "**Objects typically have some \"object variables\" (like age, in the student case), that are there as \"memory\", so they often hold some kind of \"state\".**\n",
        "\n",
        "```python\n",
        "john.age = 13\n",
        "```\n",
        "\n",
        "This also implies, that if I call the function of an object multiple times, it can behave differently, since it has an inner state that it can rely on. Objects have a kind of life-cycle of their own."
      ]
    },
    {
      "cell_type": "markdown",
      "metadata": {
        "id": "kgTaeF9KZB2v"
      },
      "source": [
        "# Python introduction\n",
        "\n",
        "Python is a high-level, general purpose programming language, which is\n",
        "\n",
        "+ interpreted (programs do not have to be compiled before running)\n",
        "+ supports **multiple programming paradigms** (objected oriented, functional, procedural, imperative - so you will often see code with mixed elements from these)\n",
        "+ dynamically typed (variables do not have a declared type, they can be bound to objects of any type during execution)\n",
        "\n",
        "with a strong focus on code readability. In fact, Python's syntax is frequently compared to that of pseudocode (not looking like code at all, more like normal written text defining actions / procedures).\n",
        "\n",
        "Python has two major versions that are rather incompatible and are still widely used, the 2.x and the 3.x version series. In this course we will use Python version 3.7.\n",
        "\n",
        "## REPL - Read Eval Print Loop\n",
        "\n",
        "The interpreted nature of Python allows it to be run interactively. \n",
        "\n",
        "You can try out an interactive Python environment under https://repl.it/repls/PotableAdorableBrains?lite=true.\n",
        "\n",
        "In case you are using this tutorial online, you can in fact try it below in the code cell."
      ]
    },
    {
      "cell_type": "code",
      "execution_count": null,
      "metadata": {
        "ExecuteTime": {
          "end_time": "2019-09-15T07:35:33.298334Z",
          "start_time": "2019-09-15T07:35:33.265502Z"
        },
        "id": "qZ1ZRbNcZB2w",
        "outputId": "f6566444-7812-45f8-9ece-a77a5a954a4d"
      },
      "outputs": [
        {
          "data": {
            "text/html": [
              "<iframe height=\"400px\" width=\"100%\" src=\"https://repl.it/repls/PotableAdorableBrains?lite=true\" scrolling=\"no\" frameborder=\"no\" allowtransparency=\"true\" allowfullscreen=\"true\" sandbox=\"allow-forms allow-pointer-lock allow-popups allow-same-origin allow-scripts allow-modals\"></iframe>"
            ],
            "text/plain": [
              "<IPython.core.display.HTML object>"
            ]
          },
          "execution_count": 1,
          "metadata": {},
          "output_type": "execute_result"
        }
      ],
      "source": [
        "from IPython.display import HTML\n",
        "\n",
        "HTML('<iframe height=\"400px\" width=\"100%\" src=\"https://repl.it/repls/PotableAdorableBrains?lite=true\" scrolling=\"no\" frameborder=\"no\" allowtransparency=\"true\" allowfullscreen=\"true\" sandbox=\"allow-forms allow-pointer-lock allow-popups allow-same-origin allow-scripts allow-modals\"></iframe>')"
      ]
    },
    {
      "cell_type": "markdown",
      "metadata": {
        "id": "ZV2ci45mZB2x"
      },
      "source": [
        "In this case a **Python interpreter** is running somewhere, I have a terminal access to it and it executes my commands interactively.\n",
        "\n",
        "This is the basic concept behind the execution of notebooks (such as this)."
      ]
    },
    {
      "cell_type": "markdown",
      "metadata": {
        "id": "gTXR9ytJZB2y"
      },
      "source": [
        "## Basic syntax"
      ]
    },
    {
      "cell_type": "code",
      "execution_count": null,
      "metadata": {
        "id": "isYv-TFGZB2y",
        "outputId": "b19b7f22-353b-4c7b-bdd3-5f26adbe70ce"
      },
      "outputs": [
        {
          "name": "stdout",
          "output_type": "stream",
          "text": [
            "1\n",
            "Python\n",
            "[1, 2, 3]\n",
            "199\n",
            "Welcome to Python!\n",
            "24\n",
            "['this', 'course', 'is', 'great!']\n"
          ]
        }
      ],
      "source": [
        "# Comment lines start with a #\n",
        "\n",
        "\"\"\"Strings standing alone in the code (so called docstrings)\n",
        "can also be used as comments/documentation.\"\"\" # They don't effect the execution of the code\n",
        "\n",
        "print(1) # statements do not end with a semicolon and are typically single line\n",
        "print \\\n",
        "(\"Python\") # if you must, you can use a backslash to continue the statement in the following line\n",
        "\n",
        "a = 3 # assignment\n",
        "\n",
        "mylist=[\"this\",\"course\",\"is\",\"great!\"] # list of elements\n",
        "# Elements listed within brackets can span several lines\n",
        "l= [1, \n",
        "    2,\n",
        "    3]\n",
        "print(l)\n",
        "b = (123 +\n",
        "     32 +\n",
        "     44)\n",
        "print(b)\n",
        "print(\"Welcome\",\n",
        "     \"to\",\n",
        "     \"Python!\")\n",
        "\n",
        "# Multiple statements on a single line have to be separated by semicolons\n",
        "x = 24; print(x) ; print(mylist)"
      ]
    },
    {
      "cell_type": "markdown",
      "metadata": {
        "id": "eE-yUkEtZB2z"
      },
      "source": [
        "## Code blocks are indicated with indentation\n",
        "The only really unusual (shocking?) aspect of Python's syntax is that it uses **indentation** to group together statements into blocks. Where other languages would use brackets or \"begin\"--\"end\" pairs to indicate the beginning and end of a block, and maybe indent code for aesthetic reasons, Python uses exclusively indentation level and colons after block-introducing constructs to indicate block structure.\n",
        "\n",
        "The main rule: If two statements\n",
        "+ are at the same indentation level, and\n",
        "+ there are no statements between them with lower indentation level\n",
        "then they belong to the same block.\n",
        "\n",
        "Control structures and data types will be discussed later, so the following examples are only to provide an intuitive demonstration of Python blocks:"
      ]
    },
    {
      "cell_type": "code",
      "execution_count": null,
      "metadata": {
        "id": "d2D9t4qiZB20",
        "outputId": "ae82477e-c594-406e-9b8a-9eb406427cc9"
      },
      "outputs": [
        {
          "name": "stdout",
          "output_type": "stream",
          "text": [
            "a is positive\n",
            "Let's examine b as well\n",
            "b is negative\n",
            "End of program\n"
          ]
        }
      ],
      "source": [
        "a = 1 # block 0 -- unindented top level\n",
        "b = -1 # block 0 -- unindented top level\n",
        "\n",
        "if a > 0:                            # block introducing constructs end with a colon\n",
        "    print(\"a is positive\")           # block 1 starts\n",
        "    print(\"Let's examine b as well\") # block 1\n",
        "    if b < 0:                        # block 1 --  block introducing construct\n",
        "        print(\"b is negative\")       # block 2 \n",
        "    else:                            # block 1 -- block introducing construct\n",
        "        print(\"b is non-negative\")   # block 3\n",
        "    print(\"End of program\")          # block 1"
      ]
    },
    {
      "cell_type": "markdown",
      "metadata": {
        "id": "3moTxKmjZB20"
      },
      "source": [
        "Indentation can make a huge difference to a program. Compare"
      ]
    },
    {
      "cell_type": "code",
      "execution_count": null,
      "metadata": {
        "id": "32kBHVLhZB21"
      },
      "outputs": [],
      "source": [
        "if  a < 0:\n",
        "    print(\"a is negative\")\n",
        "    print(\"End of program\")"
      ]
    },
    {
      "cell_type": "markdown",
      "metadata": {
        "id": "EgUSoJLDZB21"
      },
      "source": [
        "with"
      ]
    },
    {
      "cell_type": "code",
      "execution_count": null,
      "metadata": {
        "id": "Yxj-_a47ZB22",
        "outputId": "76262a9b-4baa-49de-ea36-bb71a80584b5"
      },
      "outputs": [
        {
          "name": "stdout",
          "output_type": "stream",
          "text": [
            "End of program\n"
          ]
        }
      ],
      "source": [
        "if  a < 0:\n",
        "    print(\"a is negative\")\n",
        "print(\"End of program\")"
      ]
    },
    {
      "cell_type": "markdown",
      "metadata": {
        "id": "_G23FeoYZB22"
      },
      "source": [
        "As for the size of indentation or the use of tabs vs spaces Python's only requirement is consistency, but it's customary to use 4 spaces per indentation level and we will stick to that."
      ]
    },
    {
      "cell_type": "markdown",
      "metadata": {
        "collapsed": true,
        "id": "7l89u03xZB22"
      },
      "source": [
        "## Basic data types\n",
        "\n",
        "Python has arbitrary large integer and float number types with the usual arithmetic operators (a 'complex' type is supported as well but we will not use it):"
      ]
    },
    {
      "cell_type": "code",
      "execution_count": null,
      "metadata": {
        "id": "MwyHCoPTZB22",
        "outputId": "18808981-5418-4f2c-9f2f-9f827ebdc5d5"
      },
      "outputs": [
        {
          "name": "stdout",
          "output_type": "stream",
          "text": [
            "<class 'int'>\n",
            "7\n",
            "-3\n",
            "10\n",
            "25\n",
            "2\n",
            "1\n",
            "2.5\n",
            "<class 'float'>\n"
          ]
        }
      ],
      "source": [
        "# Integers\n",
        "\n",
        "a = 5; b = 2 # Variable assignment for any type of variable\n",
        "\n",
        "print(type(a))\n",
        "print(a + b) # Addition\n",
        "print(2 - 5) # Subtraction\n",
        "print(a * b) # Multiplication\n",
        "print(a ** b) # Exponentiation\n",
        "print(a // b) # Floor division \n",
        "print(a % b) # Modulus\n",
        "print(a / 2) # Division -- the result can be a float!!\n",
        "print(type(a / 2))"
      ]
    },
    {
      "cell_type": "code",
      "execution_count": null,
      "metadata": {
        "id": "vkb0R1eEZB23",
        "outputId": "2c3ad26d-9cee-4907-c1ea-98861a55c7c8"
      },
      "outputs": [
        {
          "name": "stdout",
          "output_type": "stream",
          "text": [
            "<class 'float'>\n",
            "5.5\n",
            "0.5\n",
            "10000000000000000000000000000000000000000000000000000000000000000000000000000000000000000000000000000\n",
            "1e+100\n"
          ]
        }
      ],
      "source": [
        "# Floats\n",
        "c = 2.5\n",
        "print(type(c))\n",
        "d = 3. # This is a float because of the decimal point!\n",
        "# All operators listed above for integers are supported:\n",
        "print(c + d)\n",
        "print(d % c)\n",
        "print(10 ** 100) # Arbitrary precision integer\n",
        "print(10. ** 100) # Float"
      ]
    },
    {
      "cell_type": "code",
      "execution_count": null,
      "metadata": {
        "id": "qco9JZ2GZB23",
        "outputId": "f5c47994-c974-4bb2-d8f5-d3060663b602"
      },
      "outputs": [
        {
          "name": "stdout",
          "output_type": "stream",
          "text": [
            "<class 'bool'>\n",
            "False\n",
            "True\n",
            "False\n",
            "True\n"
          ]
        }
      ],
      "source": [
        "# Booleans are the the values True and False\n",
        "\n",
        "a = True; b = False\n",
        "print(type(a))\n",
        "print(a and b) # Logical and\n",
        "print(a or b) # Logical or\n",
        "print(not a) # Negation\n",
        "print(a != b) # Xor with booleans (see next cell for other usage)"
      ]
    },
    {
      "cell_type": "code",
      "execution_count": null,
      "metadata": {
        "id": "t_ij-sjFZB23",
        "outputId": "b350efe5-5863-4092-e93d-cfeaab520856"
      },
      "outputs": [
        {
          "name": "stdout",
          "output_type": "stream",
          "text": [
            "False\n",
            "True\n",
            "True\n",
            "False\n",
            "True\n"
          ]
        }
      ],
      "source": [
        "# Comparisons return Boolean values\n",
        "\n",
        "a = 3; b = 4\n",
        "print(a == b) # General equality comparison, returns True if a and b have equal content\n",
        "a = \"a\"; b = \"b\"\n",
        "print(a != b) # True if a and b do not have equal content\n",
        "\n",
        "# Arithmetic comparisons\n",
        "\n",
        "a = 3; b = 4\n",
        "print(a < b)\n",
        "print(a >= b)\n",
        "\n",
        "# String comparisons\n",
        "a = \"a\"; b = \"b\"\n",
        "print(a < b) # Lexicographic comparison"
      ]
    },
    {
      "cell_type": "code",
      "execution_count": null,
      "metadata": {
        "id": "edPruOubZB24",
        "outputId": "2701bbc3-23d8-4217-81b1-8e7034523ebf"
      },
      "outputs": [
        {
          "name": "stdout",
          "output_type": "stream",
          "text": [
            "<class 'str'>\n",
            "10\n",
            "\n",
            "Strings can be multiline as well\n",
            "when delimited by three quotes\n",
            "\n",
            "Artificial Intelligence\n",
            "Artificial Intelligence 2018\n",
            "Human Intelligence\n"
          ]
        }
      ],
      "source": [
        "# Strings\n",
        "a = \"Artificial\" # String literals can use double and\n",
        "b = 'Intelligence' # single quotes as well\n",
        "print(type(a))\n",
        "print(len(a)) # The len() function returns their length\n",
        "c = \"\"\"\n",
        "Strings can be multiline as well\n",
        "when delimited by three quotes\n",
        "\"\"\"\n",
        "print(c)\n",
        "s = \" \"\n",
        "print(a + s + b) # Concatenation\n",
        "print('%s %s %d' % (a, b, 2018.1)) # Traditional string formatting can be used\n",
        "print(f\"Human {b}\") # Starting with Python 3.6 string interpolation is also supported in 'f' prefixed strings"
      ]
    },
    {
      "cell_type": "code",
      "execution_count": null,
      "metadata": {
        "id": "JYH5IRmqZB24",
        "outputId": "0dac73cf-0ca9-4c53-c329-00c46e503320"
      },
      "outputs": [
        {
          "name": "stdout",
          "output_type": "stream",
          "text": [
            "6\n",
            "36\n",
            "AI\n"
          ]
        }
      ],
      "source": [
        "# Shortcuts to apply an operator to a variable's value and assign the result\n",
        "# to the same variable are supported for most operations\n",
        "a = 1\n",
        "a += 5\n",
        "print(a)\n",
        "a **= 2\n",
        "print(a)\n",
        "b = \"A\"\n",
        "b += \"I\"\n",
        "print(b)\n"
      ]
    },
    {
      "cell_type": "code",
      "execution_count": null,
      "metadata": {
        "id": "Gsd4UymkZB25",
        "outputId": "f3cb07fd-afa9-4c09-8c9f-af899f51d12f"
      },
      "outputs": [
        {
          "name": "stdout",
          "output_type": "stream",
          "text": [
            "<class 'NoneType'>\n",
            "None\n",
            "None\n",
            "None\n",
            "None\n",
            "[None, None]\n"
          ]
        }
      ],
      "source": [
        "# Although not exactly a data type, here is the best place to mention None\n",
        "# which is Python's nil/null/nothing value.\n",
        "# None appears as an (implicit) return value in many cases\n",
        "\n",
        "print(type(None))\n",
        "print(None)\n",
        "print(print(None)) # Functions with no explicit return value return None\n",
        "l = [None, print(None)] # None is a first class citizen\n",
        "print(l)"
      ]
    },
    {
      "cell_type": "code",
      "execution_count": null,
      "metadata": {
        "id": "cJ9J2PNqZB25",
        "outputId": "e29727c8-ead1-4e46-ef33-57bafc2461ec"
      },
      "outputs": [
        {
          "name": "stdout",
          "output_type": "stream",
          "text": [
            "True\n",
            "2008\n",
            "3\n"
          ]
        }
      ],
      "source": [
        "# The data types we have discussed can be \"converted\" to each other \n",
        "# (where this makes sense) simply by calling their constructors with the value\n",
        "# to be \"converted\":\n",
        "\n",
        "print(bool(1))\n",
        "print(str(2008))\n",
        "print(int(3.5))"
      ]
    },
    {
      "cell_type": "markdown",
      "metadata": {
        "id": "opp0_MfqZB25"
      },
      "source": [
        "**Fair warning**\n",
        "\n",
        "+  '++' like operators to increment or decrement by 1 are not supported. \n",
        "+ **All listed basic data types are immutable.**"
      ]
    },
    {
      "cell_type": "markdown",
      "metadata": {
        "id": "zovzwKMwZB26"
      },
      "source": [
        "## Containers"
      ]
    },
    {
      "cell_type": "code",
      "execution_count": null,
      "metadata": {
        "id": "Uc2DdnGcZB26",
        "outputId": "e0c272ec-1d5d-4e25-caef-13df33171603"
      },
      "outputs": [
        {
          "name": "stdout",
          "output_type": "stream",
          "text": [
            "<class 'list'>\n",
            "3\n",
            "a\n",
            "True\n",
            "[2, 3]\n",
            "[3]\n",
            "[3, 4, 5]\n",
            "[0, 1, 2, 3, 4, 5, 'a', 'b']\n",
            "[0, 1, 2, 3, 4, 5, True]\n",
            "[1, 2, 3, 4, 5, True]\n"
          ]
        }
      ],
      "source": [
        "# Lists\n",
        "l = [1, \"a\", True] # are mutable arrays that can hold any type of objects\n",
        "print(type(l))\n",
        "print(len(l)) # Their length can be queried\n",
        "print(l[1]) # Elements can be accessed by their index. Indexing starts from 0.\n",
        "print(l[-1]) # A negative index gives the position from the end. -1 is the index of the last element.\n",
        "l = [0,1,2,3,4,5]\n",
        "print(l[2:4]) # Slicing is also supported. The first index is inclusive, the second is exclusive.\n",
        "print(l[3:-2])\n",
        "print(l[3:]) # If no start/end index is given then the slice starts from the beginning/ends with the last element.\n",
        "l2 = [\"a\", \"b\"]\n",
        "print(l + l2) # Lists can be concatenated\n",
        "l.append(True) # New elements can be appended to lists\n",
        "print(l)\n",
        "del(l[0]) # Elements can be deleted by referring on it with index\n",
        "print(l)"
      ]
    },
    {
      "cell_type": "code",
      "execution_count": null,
      "metadata": {
        "id": "GDvZ4qNBZB26",
        "outputId": "6417c5f5-17b7-41e9-8c01-5ea0706e610c"
      },
      "outputs": [
        {
          "name": "stdout",
          "output_type": "stream",
          "text": [
            "1991\n",
            "False\n",
            "key not in dict\n",
            "1958\n",
            "1983\n",
            "key not in dict\n"
          ]
        }
      ],
      "source": [
        "# Dictionaries\n",
        "lang_year = {\"Python\": 1991, \"Lisp\": 1958, \"Java\": 1995} # are key-value stores\n",
        "print(lang_year[\"Python\"]) # Return the value associated with the key\n",
        "print(\"C++\" in lang_year) # Whether a key has an associated value\n",
        "# lang_year[\"C++\"] would raise an exception since \"C++\" is not among the keys\n",
        "print(lang_year.get(\"C++\", \"key not in dict\")) # Returns the value for the key if there is one,\n",
        "print(lang_year.get(\"Lisp\", \"key not in dict\")) # a default value otherwise\n",
        "lang_year[\"C++\"] = 1983 # Change the value for an already existing key or add a key with a value\n",
        "print(lang_year.get(\"C++\", \"key not in dict\")) # now the \"C++\" can be found among the keys \n",
        "del lang_year['Java'] # Remove an element from a dictionary\n",
        "print(lang_year.get(\"Java\", \"key not in dict\"))"
      ]
    },
    {
      "cell_type": "code",
      "execution_count": null,
      "metadata": {
        "id": "kqTY2puGZB26",
        "outputId": "2d354d89-ac79-411c-906c-84a80865005d"
      },
      "outputs": [
        {
          "name": "stdout",
          "output_type": "stream",
          "text": [
            "<class 'set'>\n",
            "True\n",
            "{'Berlin', 'Rome', 'London'}\n"
          ]
        }
      ],
      "source": [
        "# Sets\n",
        "cities = {\"Rome\", \"Berlin\", \"Paris\"} # are mutable unordered collections of unequal and immutable (!) objects\n",
        "print(type(cities))\n",
        "print(\"Rome\" in cities) # Whether an object is in the set\n",
        "cities.add(\"London\") # Objects can be added\n",
        "cities.add(\"Berlin\") # Adding an already existing object: the set will contain Berlin once. \n",
        "cities.remove(\"Paris\") # and removed\n",
        "print(cities)"
      ]
    },
    {
      "cell_type": "code",
      "execution_count": null,
      "metadata": {
        "id": "bqXeproVZB26",
        "outputId": "eceb6889-b91b-4e1c-cc92-a5fb1d5bf4fd"
      },
      "outputs": [
        {
          "name": "stdout",
          "output_type": "stream",
          "text": [
            "<class 'tuple'>\n",
            "4\n",
            "a\n",
            "('b', 'c')\n"
          ]
        }
      ],
      "source": [
        "# Tuples\n",
        "t = (\"a\", \"b\", \"c\", \"d\")  # Are immutable ordered lists. Since they are immutable, they can be\n",
        "                          # keys in dictionaries and elements in sets, unlike lists\n",
        "print(type(t))\n",
        "print(len(t))\n",
        "print(t[0]) # Elements can be accessed in the same way as that of lists\n",
        "print(t[1:-1])"
      ]
    },
    {
      "cell_type": "markdown",
      "metadata": {
        "id": "LONXIp94ZB27"
      },
      "source": [
        "### Comprehension\n",
        "\n",
        "Python has a special syntax for defining collections based on other collections, the so-called comprehension, which can be used for defining lists, sets and dictionaries that are the results of mapping and/or filtering the elements of another collection/iterable."
      ]
    },
    {
      "cell_type": "code",
      "execution_count": null,
      "metadata": {
        "id": "oHbQaksCZB27",
        "outputId": "2ee3fdb6-244e-4603-b495-a15cb484db8f"
      },
      "outputs": [
        {
          "name": "stdout",
          "output_type": "stream",
          "text": [
            "[1, 9, 25, 49, 81]\n"
          ]
        }
      ],
      "source": [
        "# List comprehension\n",
        "\n",
        "nums = [1, 2, 3, 4, 5, 6, 7, 8, 9]\n",
        "squares_of_odds = [x * x for x in nums if x % 2 != 0]\n",
        "print(squares_of_odds)"
      ]
    },
    {
      "cell_type": "code",
      "execution_count": null,
      "metadata": {
        "id": "r6UYYXZOZB27",
        "outputId": "48c9772b-f4d8-46cc-ee08-c68612f23c0a"
      },
      "outputs": [
        {
          "name": "stdout",
          "output_type": "stream",
          "text": [
            "{1: 1, 2: 4, 3: 9, 4: 16, 5: 25, 6: 36, 7: 49, 8: 64, 9: 81}\n"
          ]
        }
      ],
      "source": [
        "# Dictionary comprehension\n",
        "\n",
        "nums_with_squares = {x: x*x for x in nums}\n",
        "print(nums_with_squares)"
      ]
    },
    {
      "cell_type": "code",
      "execution_count": null,
      "metadata": {
        "id": "N7qYwpvwZB27",
        "outputId": "a0afd2ce-e0c0-4559-f81a-149507ffb745"
      },
      "outputs": [
        {
          "name": "stdout",
          "output_type": "stream",
          "text": [
            "{64, 1, 4, 36, 9, 16, 49, 81, 25}\n"
          ]
        }
      ],
      "source": [
        "# Set comprehension \n",
        "\n",
        "print({x * x for x in nums}) # Order will be arbitrary!\n"
      ]
    },
    {
      "cell_type": "markdown",
      "metadata": {
        "id": "MU4PuAgUZB27"
      },
      "source": [
        "### Generator expressions\n",
        "\n",
        "Iterators are Python objects that sequentially return items, one at a time. Calling the 'next' function with an iterator argument returns the next item or raises the StopIteration exception if the iterator has been exhausted.\n",
        "\n",
        "An especially easy way of creating iterators is provided by Python's generator expressions, which have the same syntax as list or set comprehension:"
      ]
    },
    {
      "cell_type": "code",
      "execution_count": null,
      "metadata": {
        "id": "tmdm6f4EZB27",
        "outputId": "091e8dd5-78c7-4d12-fea6-f05e6be63b48"
      },
      "outputs": [
        {
          "data": {
            "text/plain": [
              "generator"
            ]
          },
          "execution_count": 21,
          "metadata": {},
          "output_type": "execute_result"
        }
      ],
      "source": [
        "g = (x + 10 for x in [1,2])\n",
        "type(g)"
      ]
    },
    {
      "cell_type": "code",
      "execution_count": null,
      "metadata": {
        "id": "WEOC4TV7ZB27",
        "outputId": "0657b8ac-959b-4c26-8387-09209db9d483"
      },
      "outputs": [
        {
          "data": {
            "text/plain": [
              "11"
            ]
          },
          "execution_count": 22,
          "metadata": {},
          "output_type": "execute_result"
        }
      ],
      "source": [
        "next(g)"
      ]
    },
    {
      "cell_type": "code",
      "execution_count": null,
      "metadata": {
        "id": "gZq7RokeZB27",
        "outputId": "16f5966b-2276-42f9-da19-3431ecdf3785"
      },
      "outputs": [
        {
          "data": {
            "text/plain": [
              "12"
            ]
          },
          "execution_count": 23,
          "metadata": {},
          "output_type": "execute_result"
        }
      ],
      "source": [
        "next(g)"
      ]
    },
    {
      "cell_type": "code",
      "execution_count": null,
      "metadata": {
        "id": "vN-xOZ6SZB28"
      },
      "outputs": [],
      "source": [
        "# next(g) # Would raise StopIteration"
      ]
    },
    {
      "cell_type": "markdown",
      "metadata": {
        "id": "1QybU0MsZB28"
      },
      "source": [
        "Iterators are NOT containers: in general the generated elements don't even have to exist in the memory at the same time. They can be converted into ones, of course:"
      ]
    },
    {
      "cell_type": "code",
      "execution_count": null,
      "metadata": {
        "id": "Id3w1tTNZB28",
        "outputId": "67c4216e-e195-4fcf-e5b9-cef7f043c503"
      },
      "outputs": [
        {
          "name": "stdout",
          "output_type": "stream",
          "text": [
            "[11, 12]\n"
          ]
        },
        {
          "data": {
            "text/plain": [
              "[]"
            ]
          },
          "execution_count": 25,
          "metadata": {},
          "output_type": "execute_result"
        }
      ],
      "source": [
        "g = (x + 10 for x in [1,2])\n",
        "print(list(g)) # This generates a list by calling 'next' until g gets exhausted\n",
        "list(g) # This will be empty because g has been exhausted"
      ]
    },
    {
      "cell_type": "markdown",
      "metadata": {
        "id": "3X_grqEQZB28"
      },
      "source": [
        "## Control structures"
      ]
    },
    {
      "cell_type": "code",
      "execution_count": null,
      "metadata": {
        "id": "nfsvF58jZB28",
        "outputId": "148ecadf-e873-440f-e6a5-a1b5a5a79a8c"
      },
      "outputs": [
        {
          "name": "stdout",
          "output_type": "stream",
          "text": [
            "Lisp is really ancient.\n"
          ]
        }
      ],
      "source": [
        "# Conditional -- the syntax is as can be expected, note \"elif\" though which is somewhat idiosyncratic.\n",
        "\n",
        "lisp_year = lang_year[\"Lisp\"]\n",
        "\n",
        "if lisp_year < 1960:\n",
        "    print(\"Lisp is really ancient.\")\n",
        "elif lisp_year <= 2000:   # some people say 2000 is 21th century, but 2000 is officially part of 20th century\n",
        "    print(\"Lisp is from the 20th century.\")\n",
        "else:\n",
        "    print(\"Lisp is recent.\")"
      ]
    },
    {
      "cell_type": "code",
      "execution_count": null,
      "metadata": {
        "id": "9CENo5iaZB28",
        "outputId": "296fa682-9dd6-4c74-b5da-aa488775dcd6"
      },
      "outputs": [
        {
          "name": "stdout",
          "output_type": "stream",
          "text": [
            "0\n",
            "1\n",
            "2\n",
            "3\n",
            "4\n"
          ]
        }
      ],
      "source": [
        "# While\n",
        "\n",
        "i = 0\n",
        "while i < 5:\n",
        "    print(i)\n",
        "    i += 1"
      ]
    },
    {
      "cell_type": "code",
      "execution_count": null,
      "metadata": {
        "id": "3y2WAmkzZB28",
        "outputId": "c975a57f-e145-483f-ade7-63e811cc6779"
      },
      "outputs": [
        {
          "name": "stdout",
          "output_type": "stream",
          "text": [
            "apple is a fruit.\n",
            "orange is a fruit.\n",
            "pear is a fruit.\n"
          ]
        }
      ],
      "source": [
        "# Iteration/For loop\n",
        "# One can iterate over the elements of containers with a for loop\n",
        "\n",
        "# Lists\n",
        "\n",
        "fruits = [\"apple\", \"orange\", \"pear\"]\n",
        "\n",
        "for fruit in fruits:\n",
        "    print(f\"{fruit} is a fruit.\")"
      ]
    },
    {
      "cell_type": "code",
      "execution_count": null,
      "metadata": {
        "id": "L_8zUiGsZB28",
        "outputId": "c70145da-0334-4232-9d94-b063a9c83b03"
      },
      "outputs": [
        {
          "name": "stdout",
          "output_type": "stream",
          "text": [
            "<class 'generator'>\n",
            "apples\n",
            "oranges\n",
            "pears\n"
          ]
        }
      ],
      "source": [
        "# For loops can iterate over any iterator, eg. over one created using \n",
        "# a generator expression:\n",
        "\n",
        "fruits = (fruit + \"s\" for fruit in fruits) \n",
        "print(type(fruits))\n",
        "for s in fruits:\n",
        "    print(s)"
      ]
    },
    {
      "cell_type": "code",
      "execution_count": null,
      "metadata": {
        "id": "qFA7H6UhZB28",
        "outputId": "a99ee918-4e1e-45c0-a8f1-39473b1ce516"
      },
      "outputs": [
        {
          "name": "stdout",
          "output_type": "stream",
          "text": [
            "\n"
          ]
        }
      ],
      "source": [
        "# if the indices are also needed:\n",
        "\n",
        "for idx, fruit in enumerate(fruits):\n",
        "    print(f\"Fruit {fruit} has index {idx}.\")\n",
        "    \n",
        "print()\n",
        "\n",
        "# if _only_ indices are needed, this is the idiomatic way:\n",
        "\n",
        "for i, _ in enumerate(fruits):\n",
        "    print(i)"
      ]
    },
    {
      "cell_type": "code",
      "execution_count": null,
      "metadata": {
        "id": "dA8FeWypZB29",
        "outputId": "d5a2bf9a-9bf2-41c4-b10e-3104559cf9da"
      },
      "outputs": [
        {
          "name": "stdout",
          "output_type": "stream",
          "text": [
            "Berlin\n",
            "Rome\n",
            "London\n"
          ]
        }
      ],
      "source": [
        "# For works similarly for sets and tuples, but note that the iteration order for sets is arbitrary\n",
        "# and can change\n",
        "for city in cities:\n",
        "    print(city)"
      ]
    },
    {
      "cell_type": "code",
      "execution_count": null,
      "metadata": {
        "id": "KIv9YpFHZB29",
        "outputId": "005c8fc9-92f2-4127-a889-288c2d3f7fdf"
      },
      "outputs": [
        {
          "name": "stdout",
          "output_type": "stream",
          "text": [
            "Python\n",
            "Lisp\n",
            "C++\n"
          ]
        }
      ],
      "source": [
        "# A for loop over a dictionary iterates over the keys:\n",
        "\n",
        "for lang in lang_year:\n",
        "    print(lang)"
      ]
    },
    {
      "cell_type": "code",
      "execution_count": null,
      "metadata": {
        "id": "_fSCIyPeZB29",
        "outputId": "019f49d9-0062-4584-d276-b220d8d1e73e"
      },
      "outputs": [
        {
          "name": "stdout",
          "output_type": "stream",
          "text": [
            "The Python language is from year 1991.\n",
            "The Lisp language is from year 1958.\n",
            "The C++ language is from year 1983.\n"
          ]
        }
      ],
      "source": [
        "# If both the keys and values are needed then you should use the items method:\n",
        "\n",
        "for lang, year in lang_year.items():\n",
        "    print(f\"The {lang} language is from year {year}.\")"
      ]
    },
    {
      "cell_type": "markdown",
      "metadata": {
        "id": "nQtptrEFZB29"
      },
      "source": [
        "## Functions"
      ]
    },
    {
      "cell_type": "code",
      "execution_count": null,
      "metadata": {
        "id": "T5_1IbjlZB29",
        "outputId": "031475b9-a11a-4f53-e42d-b3c85352d31e"
      },
      "outputs": [
        {
          "name": "stdout",
          "output_type": "stream",
          "text": [
            "a b c\n",
            "time.struct_time(tm_year=2019, tm_mon=9, tm_mday=27, tm_hour=14, tm_min=15, tm_sec=12, tm_wday=4, tm_yday=270, tm_isdst=1)\n",
            "<built-in function localtime>\n",
            "[<built-in function localtime>, <built-in function localtime>]\n",
            "time.struct_time(tm_year=2019, tm_mon=9, tm_mday=27, tm_hour=14, tm_min=15, tm_sec=12, tm_wday=4, tm_yday=270, tm_isdst=1)\n"
          ]
        }
      ],
      "source": [
        "# Function calls have the syntax <fun_identifier>(<arg_1>,...,<arg_n>)\n",
        "\n",
        "print(\"a\", \"b\", \"c\")\n",
        "\n",
        "# Functions can be called only with brackets around the argument list, even if there are no arguments.\n",
        "# Without the argument list a function name always refers to the function itself:\n",
        "\n",
        "from time import localtime # Localtime has no arguments.\n",
        "\n",
        "print(localtime()) # Print the result of calling the localtime function \n",
        "print(localtime) # Print localtime, the function\n",
        "\n",
        "# Functions are \"first class citizens\" in Python: they can be arguments and return values of functions/methods \n",
        "# and elements of containers.\n",
        "\n",
        "my_list = [localtime, localtime]\n",
        "print(my_list)\n",
        "print(my_list[0]())"
      ]
    },
    {
      "cell_type": "code",
      "execution_count": null,
      "metadata": {
        "id": "Ptixo2C0ZB29",
        "outputId": "5380132b-cfca-4c75-a4f0-e59a1b266919"
      },
      "outputs": [
        {
          "name": "stdout",
          "output_type": "stream",
          "text": [
            "-1\n"
          ]
        }
      ],
      "source": [
        "# Functions are defined with the def keyword\n",
        "\n",
        "def sign(x):\n",
        "    if x < 0:\n",
        "        return -1\n",
        "    elif x == 0:\n",
        "        return 0\n",
        "    else:\n",
        "        return 1\n",
        "\n",
        "print((sign(-5)))"
      ]
    },
    {
      "cell_type": "code",
      "execution_count": null,
      "metadata": {
        "id": "4lIz4n4eZB29",
        "outputId": "3cc34f70-9fcd-4364-8c27-0f9c78c0790d"
      },
      "outputs": [
        {
          "name": "stdout",
          "output_type": "stream",
          "text": [
            "Hello Guido!\n",
            "Hello Python!\n",
            "None\n"
          ]
        }
      ],
      "source": [
        "# In the absence of an explicit 'return' functions return None\n",
        "\n",
        "def hello(x): \n",
        "    print(f\"Hello {x}!\") \n",
        "\n",
        "hello(\"Guido\") \n",
        "print(hello(\"Python\")) "
      ]
    },
    {
      "cell_type": "code",
      "execution_count": null,
      "metadata": {
        "id": "TQ2u8wa-ZB29",
        "outputId": "7a229532-a5e0-4a3a-93e4-724cf17f67f9"
      },
      "outputs": [
        {
          "name": "stdout",
          "output_type": "stream",
          "text": [
            "Hello Python!\n",
            "Good morning Lisp!\n",
            "Good day Java?\n"
          ]
        }
      ],
      "source": [
        "# Arguments can have a default value, in that case they can be used as named/keyword arguments as well.\n",
        "\n",
        "def hello_defaults(name, greeting=\"Hello\", ending=\"!\"):\n",
        "    print(f\"{greeting} {name}{ending}\")\n",
        "    \n",
        "hello_defaults(\"Python\")\n",
        "hello_defaults(\"Lisp\", \"Good morning\")\n",
        "hello_defaults(\"Java\", ending=\"?\", greeting=\"Good day\") # Named args can be in any order"
      ]
    },
    {
      "cell_type": "code",
      "execution_count": null,
      "metadata": {
        "id": "8FfQBVreZB29",
        "outputId": "58fe51d1-f645-4e07-8879-8096af40a791"
      },
      "outputs": [
        {
          "name": "stdout",
          "output_type": "stream",
          "text": [
            "Hello Python!\n",
            "Hello to Java as well!\n",
            "Hello to Lisp as well!\n"
          ]
        }
      ],
      "source": [
        "# To define functions with a variable number of arguments\n",
        "# the last arguments in the definition can start with one or two asterisks.\n",
        "# These will contain the values of all extra positional arguments that are passed \n",
        "# but not listed explicitly in the function definition. \n",
        "\n",
        "def hello_varargs(name, *names):# the value of the _single_ asterisked argument will be a tuple \n",
        "    print(f\"Hello {name}!\")     # containing the value of passed _additional_ parguments in the function call\n",
        "    for name in names:\n",
        "        print(f\"Hello to {name} as well!\")\n",
        "        \n",
        "hello_varargs(\"Python\", \"Java\", \"Lisp\")"
      ]
    },
    {
      "cell_type": "code",
      "execution_count": null,
      "metadata": {
        "id": "k_wAiWZ3ZB2-",
        "outputId": "2b8d2f4d-1ccc-4bca-a0a8-03ae5d797823"
      },
      "outputs": [
        {
          "name": "stdout",
          "output_type": "stream",
          "text": [
            "Good day Python,\n",
            "your developer is Guido van Rossum\n",
            "your year is 1995\n",
            "your popularity is skyrocketing\n"
          ]
        }
      ],
      "source": [
        "# An argument starting with a double asterisk collects all extra named/keyword arguments with their values\n",
        "# in a dictionary\n",
        "\n",
        "def hello_kwargs(name, greeting=\"Hello\", **attribs):\n",
        "    print(f\"{greeting} {name},\")\n",
        "    for attr_name, attr_value in attribs.items():\n",
        "        print(f\"your {attr_name} is {attr_value}\")\n",
        "        \n",
        "hello_kwargs(\"Python\", greeting=\"Good day\", developer=\"Guido van Rossum\", year=\"1995\", popularity=\"skyrocketing\")"
      ]
    },
    {
      "cell_type": "markdown",
      "metadata": {
        "id": "POXdkyIFZB2-"
      },
      "source": [
        "## Lambda\n",
        "\n",
        "In Python programming language you could also use Lambda expressions, which is a good start for learning functional programming style. With lambda expressions you can create a function without  function name and header. You can read more about it <a href=\"https://realpython.com/python-lambda/\">here</a>\n",
        "\n",
        "\n"
      ]
    },
    {
      "cell_type": "code",
      "execution_count": null,
      "metadata": {
        "id": "Z-oRnFTDZB2-",
        "outputId": "b98af834-88d2-4487-cbee-5b0a12669773"
      },
      "outputs": [
        {
          "data": {
            "text/plain": [
              "[2, 4, 6, 10]"
            ]
          },
          "execution_count": 40,
          "metadata": {},
          "output_type": "execute_result"
        }
      ],
      "source": [
        "a=[1,2,3,5]\n",
        "\n",
        "#To create a list with numbers multiply by 2, it takes 3 lines:\n",
        "def my_function(x):\n",
        "    return x * 2\n",
        "list(map(my_function,a)) \n",
        "\n",
        "\n",
        "# with Lambda just one line:\n",
        "list(map(lambda x: x * 2,a))\n",
        "\n",
        "\n",
        "    "
      ]
    },
    {
      "cell_type": "markdown",
      "metadata": {
        "id": "d56mIOmSZB2-"
      },
      "source": [
        "## Generator functions\n",
        "\n",
        "Generator functions are special functions that use the yield keyword instead of return, and when called return an iterator. The returned iterator, in turn, calls the generator function at the  first 'next' call, runs it until it reaches 'yield', returns the yielded object and suspends the run of the generator function until the next 'next' call, when it resumes running until reaching a 'yield' etc. If 'next' is called for the iterator and the generator function's execution ends without reaching a 'yield' then a 'StopIteration' exception is raised."
      ]
    },
    {
      "cell_type": "code",
      "execution_count": null,
      "metadata": {
        "id": "UZOCQ57nZB2-",
        "outputId": "b614537b-834c-47a3-a76e-1bb6641977d7"
      },
      "outputs": [
        {
          "name": "stdout",
          "output_type": "stream",
          "text": [
            "1\n",
            "2\n",
            "4\n",
            "8\n",
            "16\n",
            "32\n",
            "64\n",
            "128\n",
            "256\n",
            "512\n"
          ]
        }
      ],
      "source": [
        "def two_powers():\n",
        "    \"\"\"Generator function yielding the powers of 2 under 1000.\n",
        "    \"\"\"\n",
        "    p = 1\n",
        "    while p < 1000:\n",
        "        yield p\n",
        "        p = p * 2\n",
        "\n",
        "g = two_powers()\n",
        "\n",
        "for p in g:\n",
        "    print(p)"
      ]
    },
    {
      "cell_type": "markdown",
      "metadata": {
        "id": "XLHMAImJZB2-"
      },
      "source": [
        "## Objects and classes\n",
        "\n",
        "All data in Python are represented by objects: all instances of the primitive data types, all containers etc.\n",
        "are objects with associated classes."
      ]
    },
    {
      "cell_type": "code",
      "execution_count": null,
      "metadata": {
        "id": "yOAahl4ZZB2-",
        "outputId": "cc5a22f2-c171-4dd2-93ff-cd45c300d70b"
      },
      "outputs": [
        {
          "name": "stdout",
          "output_type": "stream",
          "text": [
            "PYTHON\n",
            "<built-in method upper of str object at 0x10c08c5e0>\n",
            "time.struct_time(tm_year=2019, tm_mon=9, tm_mday=27, tm_hour=14, tm_min=15, tm_sec=12, tm_wday=4, tm_yday=270, tm_isdst=1)\n",
            "2019\n"
          ]
        }
      ],
      "source": [
        "# Objects have associated methods and attributes\n",
        "# Methods can be called with the dot syntax: <object_identifier>.<method_name>(arg_1,...,arg_2)\n",
        "# All function calling conventions (named arguments etc.) apply to methods as well\n",
        "\n",
        "a = \"python\"\n",
        "a_capitalized = \"python\".upper()\n",
        "print(a_capitalized)\n",
        "\n",
        "# Similarly to functions, without brackets the method name refers to the method itself:\n",
        "print(a.upper)\n",
        "\n",
        "# Attributes, in contrast, are accessed without brackets:\n",
        "\n",
        "lt = localtime()\n",
        "print(lt)\n",
        "print(lt.tm_year)"
      ]
    },
    {
      "cell_type": "code",
      "execution_count": null,
      "metadata": {
        "id": "zCITw0kWZB2_",
        "outputId": "edabe46f-d8a6-42be-824b-570339aa01f5"
      },
      "outputs": [
        {
          "name": "stdout",
          "output_type": "stream",
          "text": [
            "<__main__.Point object at 0x10e1c9400>\n",
            "5.0\n",
            "1.0\n"
          ]
        }
      ],
      "source": [
        "# Objects are always instances of a class, and new classes can easily be defined\n",
        "# from scratch or by inheriting from an already existing class\n",
        "\n",
        "class Point: # classes to inherit from could be listed between brackets\n",
        "             # after the class name\n",
        "    \"\"\"A class representing a point on a plane.\n",
        "    \"\"\"\n",
        "    \n",
        "    # method definition syntax is the same as that of functions,\n",
        "    # but when called the first argument -- always \"self\" by convention -- is bound to\n",
        "    # the object itself.\n",
        "    \n",
        "    def __init__(self, x, y): # The method called __init__ is always the default constructor\n",
        "        \"\"\"Initialize a point with x, y coordinates.\n",
        "        \"\"\"\n",
        "        self.x = x  # we are setting the x an y attributes\n",
        "        self.y = y  # using the constructor arguments\n",
        "            \n",
        "    def distance(self, other):\n",
        "        \"\"\"Return the distance between two points.\n",
        "        \"\"\"\n",
        "        return ((self.x - other.x) ** 2 + (self.y - other.y) ** 2) ** 0.5\n",
        "        \n",
        "p1 = Point(0, 0) # The class's name with arguments calls the constructor\n",
        "print(p1)\n",
        "p2 = Point(3, 4)\n",
        "print(p1.distance(p2))\n",
        "p1.x = 3; p1.y = 3;\n",
        "print(p1.distance(p2))"
      ]
    },
    {
      "cell_type": "markdown",
      "metadata": {
        "id": "llZmh17oZB2_"
      },
      "source": [
        "## Importing"
      ]
    },
    {
      "cell_type": "code",
      "execution_count": null,
      "metadata": {
        "id": "fx4AA5G9ZB2_",
        "outputId": "325c9ea5-f60f-4c23-a77c-3099772c5ed1"
      },
      "outputs": [
        {
          "name": "stdout",
          "output_type": "stream",
          "text": [
            "5.0\n",
            "<class 'sklearn.cluster.k_means_.KMeans'>\n",
            "0.01876545042221356\n",
            "0.6059466160613729\n"
          ]
        }
      ],
      "source": [
        "# Classes, functions etc. defined in other modules have to be imported before they can be used\n",
        "\n",
        "from math import sin, sqrt # individual functions, classes etc can be imported from modules\n",
        "print(sqrt(25)) # the identifiers imported this way become avaiable in the current namespace\n",
        "from math import * # This imports the whole content of the module into the current namespace -- not recommended\n",
        "\n",
        "# Since modules are frequently organized into packages (and packages again into larger ones),\n",
        "# the from syntax can be used to import a package or module as a whole, e.g.\n",
        "from sklearn import cluster\n",
        "print(cluster.KMeans) # This makes the content of the whole package available\n",
        "\n",
        "import random # This makes available the whole content of the module\n",
        "print(random.random()) # but the module's name (path) has to be used before the imported identifiers\n",
        "\n",
        "import random as r # Makes available the whole content of the module, they can be accessed with the specified prefix\n",
        "print(r.random())"
      ]
    },
    {
      "cell_type": "markdown",
      "metadata": {
        "id": "odgmbMClZB2_"
      },
      "source": [
        "# Pandas (Python Data Analysis Library)\n",
        "\n",
        "## Data frame basics\n",
        "\n",
        "[Pandas](https://pandas.pydata.org/) is an open source Python data analysis library. The central Pandas abstraction is that of a [data frame](https://pandas.pydata.org/pandas-docs/stable/generated/pandas.DataFrame.html): these are spreadsheet-like objects in which columns and rows are labeled with Python objects, e.g. strings or numbers. The list of row labels is called the index of the data frame."
      ]
    },
    {
      "cell_type": "code",
      "execution_count": null,
      "metadata": {
        "id": "Tu-L4L_qZB2_",
        "outputId": "3dd4a6ad-726c-4e51-bdf4-e951cf3ed658"
      },
      "outputs": [
        {
          "data": {
            "text/html": [
              "<div>\n",
              "<style scoped>\n",
              "    .dataframe tbody tr th:only-of-type {\n",
              "        vertical-align: middle;\n",
              "    }\n",
              "\n",
              "    .dataframe tbody tr th {\n",
              "        vertical-align: top;\n",
              "    }\n",
              "\n",
              "    .dataframe thead th {\n",
              "        text-align: right;\n",
              "    }\n",
              "</style>\n",
              "<table border=\"1\" class=\"dataframe\">\n",
              "  <thead>\n",
              "    <tr style=\"text-align: right;\">\n",
              "      <th></th>\n",
              "      <th>name</th>\n",
              "      <th>paradigm</th>\n",
              "      <th>creator</th>\n",
              "      <th>year</th>\n",
              "      <th>popularity_rank</th>\n",
              "    </tr>\n",
              "  </thead>\n",
              "  <tbody>\n",
              "    <tr>\n",
              "      <th>0</th>\n",
              "      <td>Python</td>\n",
              "      <td>multi</td>\n",
              "      <td>Guido van Rossum</td>\n",
              "      <td>1995</td>\n",
              "      <td>3</td>\n",
              "    </tr>\n",
              "    <tr>\n",
              "      <th>1</th>\n",
              "      <td>Lisp</td>\n",
              "      <td>multi</td>\n",
              "      <td>John McCarthy</td>\n",
              "      <td>1958</td>\n",
              "      <td>33</td>\n",
              "    </tr>\n",
              "    <tr>\n",
              "      <th>2</th>\n",
              "      <td>C++</td>\n",
              "      <td>multi</td>\n",
              "      <td>Bjarne Stroustrup</td>\n",
              "      <td>1985</td>\n",
              "      <td>4</td>\n",
              "    </tr>\n",
              "    <tr>\n",
              "      <th>3</th>\n",
              "      <td>Java</td>\n",
              "      <td>multi</td>\n",
              "      <td>James Gosling</td>\n",
              "      <td>1996</td>\n",
              "      <td>1</td>\n",
              "    </tr>\n",
              "    <tr>\n",
              "      <th>4</th>\n",
              "      <td>Haskell</td>\n",
              "      <td>functional</td>\n",
              "      <td>Lennart Augustsson</td>\n",
              "      <td>1990</td>\n",
              "      <td>40</td>\n",
              "    </tr>\n",
              "    <tr>\n",
              "      <th>5</th>\n",
              "      <td>Prolog</td>\n",
              "      <td>logic</td>\n",
              "      <td>Alain Colmerauer</td>\n",
              "      <td>1972</td>\n",
              "      <td>36</td>\n",
              "    </tr>\n",
              "  </tbody>\n",
              "</table>\n",
              "</div>"
            ],
            "text/plain": [
              "      name    paradigm             creator  year  popularity_rank\n",
              "0   Python       multi    Guido van Rossum  1995                3\n",
              "1     Lisp       multi       John McCarthy  1958               33\n",
              "2      C++       multi   Bjarne Stroustrup  1985                4\n",
              "3     Java       multi       James Gosling  1996                1\n",
              "4  Haskell  functional  Lennart Augustsson  1990               40\n",
              "5   Prolog       logic    Alain Colmerauer  1972               36"
            ]
          },
          "execution_count": 45,
          "metadata": {},
          "output_type": "execute_result"
        }
      ],
      "source": [
        "import pandas as pd # Pandas is by convention imported as pd\n",
        "\n",
        "# Data frames can be created in several ways, and we will see methods to create \n",
        "# them from external data sets later, but for now we create them simply from lists:\n",
        "\n",
        "df = pd.DataFrame([[\"Python\",\"multi\", \"Guido van Rossum\", 1995, 3],\n",
        "                    [\"Lisp\",\"multi\", \"John McCarthy\", 1958, 33],\n",
        "                    [\"C++\", \"multi\", \"Bjarne Stroustrup\", 1985, 4],\n",
        "                    [\"Java\", \"multi\", \"James Gosling\", 1996, 1],\n",
        "                    [\"Haskell\",\"functional\", \"Lennart Augustsson\", 1990, 40],\n",
        "                    [\"Prolog\", \"logic\", \"Alain Colmerauer\", 1972,  36]], \n",
        "                  columns=[\"name\", \"paradigm\", \"creator\", \"year\", \"popularity_rank\"])\n",
        "\n",
        "df # data frames are nicely visualised in Jupyter without printing"
      ]
    },
    {
      "cell_type": "markdown",
      "metadata": {
        "id": "E5SrYzdtZB2_"
      },
      "source": [
        "The first and last $n$ rows (the default is 5) of a data frame can be quickly inspected by the [head](https://pandas.pydata.org/pandas-docs/stable/generated/pandas.DataFrame.head.html) and [tail](https://pandas.pydata.org/pandas-docs/stable/generated/pandas.DataFrame.tail.html) methods:"
      ]
    },
    {
      "cell_type": "code",
      "execution_count": null,
      "metadata": {
        "id": "zCMlR-DpZB2_",
        "outputId": "06d5ade6-70fc-4eaf-ed72-352f5ec04a41"
      },
      "outputs": [
        {
          "data": {
            "text/html": [
              "<div>\n",
              "<style scoped>\n",
              "    .dataframe tbody tr th:only-of-type {\n",
              "        vertical-align: middle;\n",
              "    }\n",
              "\n",
              "    .dataframe tbody tr th {\n",
              "        vertical-align: top;\n",
              "    }\n",
              "\n",
              "    .dataframe thead th {\n",
              "        text-align: right;\n",
              "    }\n",
              "</style>\n",
              "<table border=\"1\" class=\"dataframe\">\n",
              "  <thead>\n",
              "    <tr style=\"text-align: right;\">\n",
              "      <th></th>\n",
              "      <th>name</th>\n",
              "      <th>paradigm</th>\n",
              "      <th>creator</th>\n",
              "      <th>year</th>\n",
              "      <th>popularity_rank</th>\n",
              "    </tr>\n",
              "  </thead>\n",
              "  <tbody>\n",
              "    <tr>\n",
              "      <th>0</th>\n",
              "      <td>Python</td>\n",
              "      <td>multi</td>\n",
              "      <td>Guido van Rossum</td>\n",
              "      <td>1995</td>\n",
              "      <td>3</td>\n",
              "    </tr>\n",
              "    <tr>\n",
              "      <th>1</th>\n",
              "      <td>Lisp</td>\n",
              "      <td>multi</td>\n",
              "      <td>John McCarthy</td>\n",
              "      <td>1958</td>\n",
              "      <td>33</td>\n",
              "    </tr>\n",
              "  </tbody>\n",
              "</table>\n",
              "</div>"
            ],
            "text/plain": [
              "     name paradigm           creator  year  popularity_rank\n",
              "0  Python    multi  Guido van Rossum  1995                3\n",
              "1    Lisp    multi     John McCarthy  1958               33"
            ]
          },
          "execution_count": 46,
          "metadata": {},
          "output_type": "execute_result"
        }
      ],
      "source": [
        "df.head(2)"
      ]
    },
    {
      "cell_type": "markdown",
      "metadata": {
        "id": "tyTeFEVVZB2_"
      },
      "source": [
        " Note that we haven't specified an index, so it is simply a numbering (starting, as usual in Python, from 0). If we use the language names as indices we get"
      ]
    },
    {
      "cell_type": "code",
      "execution_count": null,
      "metadata": {
        "id": "4UYAk2fsZB3A",
        "outputId": "04e4dda7-3833-42df-d129-dd12b44b552e"
      },
      "outputs": [
        {
          "data": {
            "text/html": [
              "<div>\n",
              "<style scoped>\n",
              "    .dataframe tbody tr th:only-of-type {\n",
              "        vertical-align: middle;\n",
              "    }\n",
              "\n",
              "    .dataframe tbody tr th {\n",
              "        vertical-align: top;\n",
              "    }\n",
              "\n",
              "    .dataframe thead th {\n",
              "        text-align: right;\n",
              "    }\n",
              "</style>\n",
              "<table border=\"1\" class=\"dataframe\">\n",
              "  <thead>\n",
              "    <tr style=\"text-align: right;\">\n",
              "      <th></th>\n",
              "      <th>paradigm</th>\n",
              "      <th>creator</th>\n",
              "      <th>year</th>\n",
              "      <th>popularity_rank</th>\n",
              "    </tr>\n",
              "  </thead>\n",
              "  <tbody>\n",
              "    <tr>\n",
              "      <th>Python</th>\n",
              "      <td>multi</td>\n",
              "      <td>Guido van Rossum</td>\n",
              "      <td>1995</td>\n",
              "      <td>3</td>\n",
              "    </tr>\n",
              "    <tr>\n",
              "      <th>Lisp</th>\n",
              "      <td>multi</td>\n",
              "      <td>John McCarthy</td>\n",
              "      <td>1958</td>\n",
              "      <td>33</td>\n",
              "    </tr>\n",
              "    <tr>\n",
              "      <th>C++</th>\n",
              "      <td>multi</td>\n",
              "      <td>Bjarne Stroustrup</td>\n",
              "      <td>1985</td>\n",
              "      <td>4</td>\n",
              "    </tr>\n",
              "    <tr>\n",
              "      <th>Java</th>\n",
              "      <td>multi</td>\n",
              "      <td>James Gosling</td>\n",
              "      <td>1996</td>\n",
              "      <td>1</td>\n",
              "    </tr>\n",
              "    <tr>\n",
              "      <th>Haskell</th>\n",
              "      <td>functional</td>\n",
              "      <td>Lennart Augustsson</td>\n",
              "      <td>1990</td>\n",
              "      <td>40</td>\n",
              "    </tr>\n",
              "    <tr>\n",
              "      <th>Prolog</th>\n",
              "      <td>logic</td>\n",
              "      <td>Alain Colmerauer</td>\n",
              "      <td>1972</td>\n",
              "      <td>36</td>\n",
              "    </tr>\n",
              "  </tbody>\n",
              "</table>\n",
              "</div>"
            ],
            "text/plain": [
              "           paradigm             creator  year  popularity_rank\n",
              "Python        multi    Guido van Rossum  1995                3\n",
              "Lisp          multi       John McCarthy  1958               33\n",
              "C++           multi   Bjarne Stroustrup  1985                4\n",
              "Java          multi       James Gosling  1996                1\n",
              "Haskell  functional  Lennart Augustsson  1990               40\n",
              "Prolog        logic    Alain Colmerauer  1972               36"
            ]
          },
          "execution_count": 47,
          "metadata": {},
          "output_type": "execute_result"
        }
      ],
      "source": [
        "df = pd.DataFrame([[\"multi\", \"Guido van Rossum\", 1995, 3],\n",
        "                    [\"multi\", \"John McCarthy\", 1958, 33],\n",
        "                    [\"multi\", \"Bjarne Stroustrup\", 1985, 4],\n",
        "                    [\"multi\", \"James Gosling\", 1996, 1],\n",
        "                    [\"functional\", \"Lennart Augustsson\", 1990, 40],\n",
        "                    [\"logic\", \"Alain Colmerauer\", 1972,  36]], \n",
        "                  columns=[\"paradigm\", \"creator\", \"year\", \"popularity_rank\"], \n",
        "                  index=[\"Python\", \"Lisp\", \"C++\", \"Java\", \"Haskell\", \"Prolog\"])\n",
        "\n",
        "df"
      ]
    },
    {
      "cell_type": "markdown",
      "metadata": {
        "id": "dgeePsLqZB3A"
      },
      "source": [
        "Columns can be accessed by label:"
      ]
    },
    {
      "cell_type": "code",
      "execution_count": null,
      "metadata": {
        "id": "QCtJDfo6ZB3A",
        "outputId": "d734c0fd-ff62-490b-f757-f7812f9ba6d6"
      },
      "outputs": [
        {
          "data": {
            "text/plain": [
              "Python       Guido van Rossum\n",
              "Lisp            John McCarthy\n",
              "C++         Bjarne Stroustrup\n",
              "Java            James Gosling\n",
              "Haskell    Lennart Augustsson\n",
              "Prolog       Alain Colmerauer\n",
              "Name: creator, dtype: object"
            ]
          },
          "execution_count": 48,
          "metadata": {},
          "output_type": "execute_result"
        }
      ],
      "source": [
        "df[\"creator\"]"
      ]
    },
    {
      "cell_type": "code",
      "execution_count": null,
      "metadata": {
        "id": "UjGYb5iBZB3A",
        "outputId": "2c253e2a-ffad-4224-a15d-02a1cbf97ac7"
      },
      "outputs": [
        {
          "data": {
            "text/plain": [
              "Python     1995\n",
              "Lisp       1958\n",
              "C++        1985\n",
              "Java       1996\n",
              "Haskell    1990\n",
              "Prolog     1972\n",
              "Name: year, dtype: int64"
            ]
          },
          "execution_count": 49,
          "metadata": {},
          "output_type": "execute_result"
        }
      ],
      "source": [
        "# With appropriate column labels (string without spaces) a dotted syntax also works:\n",
        "df.year"
      ]
    },
    {
      "cell_type": "code",
      "execution_count": null,
      "metadata": {
        "id": "tHUefEVZZB3A",
        "outputId": "838272c2-dd18-4735-c530-dad7dd602817"
      },
      "outputs": [
        {
          "data": {
            "text/plain": [
              "paradigm                      multi\n",
              "creator            Guido van Rossum\n",
              "year                           1995\n",
              "popularity_rank                   3\n",
              "Name: Python, dtype: object"
            ]
          },
          "execution_count": 50,
          "metadata": {},
          "output_type": "execute_result"
        }
      ],
      "source": [
        "# Rows of can be accessed by the row index using loc:\n",
        "df.loc[\"Python\"]"
      ]
    },
    {
      "cell_type": "code",
      "execution_count": null,
      "metadata": {
        "id": "7DhU8L0wZB3A",
        "outputId": "758ea7a1-d1df-41b1-e7b5-b22d9e96b14e"
      },
      "outputs": [
        {
          "data": {
            "text/html": [
              "<div>\n",
              "<style scoped>\n",
              "    .dataframe tbody tr th:only-of-type {\n",
              "        vertical-align: middle;\n",
              "    }\n",
              "\n",
              "    .dataframe tbody tr th {\n",
              "        vertical-align: top;\n",
              "    }\n",
              "\n",
              "    .dataframe thead th {\n",
              "        text-align: right;\n",
              "    }\n",
              "</style>\n",
              "<table border=\"1\" class=\"dataframe\">\n",
              "  <thead>\n",
              "    <tr style=\"text-align: right;\">\n",
              "      <th></th>\n",
              "      <th>creator</th>\n",
              "      <th>year</th>\n",
              "      <th>popularity_rank</th>\n",
              "    </tr>\n",
              "  </thead>\n",
              "  <tbody>\n",
              "    <tr>\n",
              "      <th>Lisp</th>\n",
              "      <td>John McCarthy</td>\n",
              "      <td>1958</td>\n",
              "      <td>33</td>\n",
              "    </tr>\n",
              "    <tr>\n",
              "      <th>C++</th>\n",
              "      <td>Bjarne Stroustrup</td>\n",
              "      <td>1985</td>\n",
              "      <td>4</td>\n",
              "    </tr>\n",
              "    <tr>\n",
              "      <th>Java</th>\n",
              "      <td>James Gosling</td>\n",
              "      <td>1996</td>\n",
              "      <td>1</td>\n",
              "    </tr>\n",
              "  </tbody>\n",
              "</table>\n",
              "</div>"
            ],
            "text/plain": [
              "                creator  year  popularity_rank\n",
              "Lisp      John McCarthy  1958               33\n",
              "C++   Bjarne Stroustrup  1985                4\n",
              "Java      James Gosling  1996                1"
            ]
          },
          "execution_count": 51,
          "metadata": {},
          "output_type": "execute_result"
        }
      ],
      "source": [
        "# loc can also be used to access 2-dimensional ranges using Python's slicing syntax extended to\n",
        "# two dimensions:\n",
        "df.loc[\"Lisp\": \"Java\", \"creator\":\"popularity_rank\"] # SLICE INCLUDES THE CLOSING INDEX!!!!"
      ]
    },
    {
      "cell_type": "code",
      "execution_count": null,
      "metadata": {
        "id": "nOi8_OP4ZB3A",
        "outputId": "1420e9cf-7ea8-4fc7-ed80-d7efccb621d9"
      },
      "outputs": [
        {
          "data": {
            "text/html": [
              "<div>\n",
              "<style scoped>\n",
              "    .dataframe tbody tr th:only-of-type {\n",
              "        vertical-align: middle;\n",
              "    }\n",
              "\n",
              "    .dataframe tbody tr th {\n",
              "        vertical-align: top;\n",
              "    }\n",
              "\n",
              "    .dataframe thead th {\n",
              "        text-align: right;\n",
              "    }\n",
              "</style>\n",
              "<table border=\"1\" class=\"dataframe\">\n",
              "  <thead>\n",
              "    <tr style=\"text-align: right;\">\n",
              "      <th></th>\n",
              "      <th>creator</th>\n",
              "      <th>year</th>\n",
              "    </tr>\n",
              "  </thead>\n",
              "  <tbody>\n",
              "    <tr>\n",
              "      <th>Python</th>\n",
              "      <td>Guido van Rossum</td>\n",
              "      <td>1995</td>\n",
              "    </tr>\n",
              "    <tr>\n",
              "      <th>Lisp</th>\n",
              "      <td>John McCarthy</td>\n",
              "      <td>1958</td>\n",
              "    </tr>\n",
              "    <tr>\n",
              "      <th>C++</th>\n",
              "      <td>Bjarne Stroustrup</td>\n",
              "      <td>1985</td>\n",
              "    </tr>\n",
              "  </tbody>\n",
              "</table>\n",
              "</div>"
            ],
            "text/plain": [
              "                  creator  year\n",
              "Python   Guido van Rossum  1995\n",
              "Lisp        John McCarthy  1958\n",
              "C++     Bjarne Stroustrup  1985"
            ]
          },
          "execution_count": 52,
          "metadata": {},
          "output_type": "execute_result"
        }
      ],
      "source": [
        "# iloc provides numerical index based access to dataframe ranges \n",
        "df.iloc[:3, 1:3]"
      ]
    },
    {
      "cell_type": "code",
      "execution_count": null,
      "metadata": {
        "id": "ts35xqTpZB3A",
        "outputId": "16daaf97-682f-4526-9ba8-4e50a7dd2354"
      },
      "outputs": [
        {
          "name": "stdout",
          "output_type": "stream",
          "text": [
            "1995\n",
            "multi\n"
          ]
        }
      ],
      "source": [
        "# Individual cells can also be accessed by loc and iloc:\n",
        "print(df.loc[\"Python\", \"year\"])\n",
        "print(df.iloc[0,0])"
      ]
    },
    {
      "cell_type": "code",
      "execution_count": null,
      "metadata": {
        "id": "b_OpeoXBZB3A",
        "outputId": "47a69c66-5671-4ffd-f3d3-582cbc292036"
      },
      "outputs": [
        {
          "data": {
            "text/html": [
              "<div>\n",
              "<style scoped>\n",
              "    .dataframe tbody tr th:only-of-type {\n",
              "        vertical-align: middle;\n",
              "    }\n",
              "\n",
              "    .dataframe tbody tr th {\n",
              "        vertical-align: top;\n",
              "    }\n",
              "\n",
              "    .dataframe thead th {\n",
              "        text-align: right;\n",
              "    }\n",
              "</style>\n",
              "<table border=\"1\" class=\"dataframe\">\n",
              "  <thead>\n",
              "    <tr style=\"text-align: right;\">\n",
              "      <th></th>\n",
              "      <th>paradigm</th>\n",
              "      <th>creator</th>\n",
              "      <th>year</th>\n",
              "      <th>tiobe_idx</th>\n",
              "    </tr>\n",
              "  </thead>\n",
              "  <tbody>\n",
              "    <tr>\n",
              "      <th>Python</th>\n",
              "      <td>multi</td>\n",
              "      <td>Guido van Rossum</td>\n",
              "      <td>1995</td>\n",
              "      <td>3</td>\n",
              "    </tr>\n",
              "    <tr>\n",
              "      <th>Lisp</th>\n",
              "      <td>multi</td>\n",
              "      <td>John McCarthy</td>\n",
              "      <td>1958</td>\n",
              "      <td>33</td>\n",
              "    </tr>\n",
              "    <tr>\n",
              "      <th>Cpp</th>\n",
              "      <td>multi</td>\n",
              "      <td>Bjarne Stroustrup</td>\n",
              "      <td>1985</td>\n",
              "      <td>4</td>\n",
              "    </tr>\n",
              "    <tr>\n",
              "      <th>Java</th>\n",
              "      <td>multi</td>\n",
              "      <td>James Gosling</td>\n",
              "      <td>1996</td>\n",
              "      <td>1</td>\n",
              "    </tr>\n",
              "    <tr>\n",
              "      <th>Haskell</th>\n",
              "      <td>functional</td>\n",
              "      <td>Lennart Augustsson</td>\n",
              "      <td>1990</td>\n",
              "      <td>40</td>\n",
              "    </tr>\n",
              "    <tr>\n",
              "      <th>Prolog</th>\n",
              "      <td>logic</td>\n",
              "      <td>Alain Colmerauer</td>\n",
              "      <td>1972</td>\n",
              "      <td>36</td>\n",
              "    </tr>\n",
              "  </tbody>\n",
              "</table>\n",
              "</div>"
            ],
            "text/plain": [
              "           paradigm             creator  year  tiobe_idx\n",
              "Python        multi    Guido van Rossum  1995          3\n",
              "Lisp          multi       John McCarthy  1958         33\n",
              "Cpp           multi   Bjarne Stroustrup  1985          4\n",
              "Java          multi       James Gosling  1996          1\n",
              "Haskell  functional  Lennart Augustsson  1990         40\n",
              "Prolog        logic    Alain Colmerauer  1972         36"
            ]
          },
          "execution_count": 54,
          "metadata": {},
          "output_type": "execute_result"
        }
      ],
      "source": [
        "# Columns and indexes can be renamed\n",
        "\n",
        "df.rename(columns={\"popularity_rank\":\"tiobe_idx\"}, index={\"C++\": \"Cpp\"}, inplace=True)\n",
        "df"
      ]
    },
    {
      "cell_type": "markdown",
      "metadata": {
        "id": "SvQqbwyDZB3A"
      },
      "source": [
        "## Descriptives\n",
        "\n",
        "Pandas can produce a descriptive statistics summary about a data frame (the summary is itself a data frame) with the [describe method](https://pandas.pydata.org/pandas-docs/stable/generated/pandas.DataFrame.describe.html):"
      ]
    },
    {
      "cell_type": "code",
      "execution_count": null,
      "metadata": {
        "id": "RAqXkHoxZB3B",
        "outputId": "a430fb49-a041-4efa-bd44-6397a4012074"
      },
      "outputs": [
        {
          "data": {
            "text/html": [
              "<div>\n",
              "<style scoped>\n",
              "    .dataframe tbody tr th:only-of-type {\n",
              "        vertical-align: middle;\n",
              "    }\n",
              "\n",
              "    .dataframe tbody tr th {\n",
              "        vertical-align: top;\n",
              "    }\n",
              "\n",
              "    .dataframe thead th {\n",
              "        text-align: right;\n",
              "    }\n",
              "</style>\n",
              "<table border=\"1\" class=\"dataframe\">\n",
              "  <thead>\n",
              "    <tr style=\"text-align: right;\">\n",
              "      <th></th>\n",
              "      <th>year</th>\n",
              "      <th>tiobe_idx</th>\n",
              "    </tr>\n",
              "  </thead>\n",
              "  <tbody>\n",
              "    <tr>\n",
              "      <th>count</th>\n",
              "      <td>6.000000</td>\n",
              "      <td>6.000000</td>\n",
              "    </tr>\n",
              "    <tr>\n",
              "      <th>mean</th>\n",
              "      <td>1982.666667</td>\n",
              "      <td>19.500000</td>\n",
              "    </tr>\n",
              "    <tr>\n",
              "      <th>std</th>\n",
              "      <td>14.908610</td>\n",
              "      <td>18.598387</td>\n",
              "    </tr>\n",
              "    <tr>\n",
              "      <th>min</th>\n",
              "      <td>1958.000000</td>\n",
              "      <td>1.000000</td>\n",
              "    </tr>\n",
              "    <tr>\n",
              "      <th>25%</th>\n",
              "      <td>1975.250000</td>\n",
              "      <td>3.250000</td>\n",
              "    </tr>\n",
              "    <tr>\n",
              "      <th>50%</th>\n",
              "      <td>1987.500000</td>\n",
              "      <td>18.500000</td>\n",
              "    </tr>\n",
              "    <tr>\n",
              "      <th>75%</th>\n",
              "      <td>1993.750000</td>\n",
              "      <td>35.250000</td>\n",
              "    </tr>\n",
              "    <tr>\n",
              "      <th>max</th>\n",
              "      <td>1996.000000</td>\n",
              "      <td>40.000000</td>\n",
              "    </tr>\n",
              "  </tbody>\n",
              "</table>\n",
              "</div>"
            ],
            "text/plain": [
              "              year  tiobe_idx\n",
              "count     6.000000   6.000000\n",
              "mean   1982.666667  19.500000\n",
              "std      14.908610  18.598387\n",
              "min    1958.000000   1.000000\n",
              "25%    1975.250000   3.250000\n",
              "50%    1987.500000  18.500000\n",
              "75%    1993.750000  35.250000\n",
              "max    1996.000000  40.000000"
            ]
          },
          "execution_count": 55,
          "metadata": {},
          "output_type": "execute_result"
        }
      ],
      "source": [
        "df.describe()"
      ]
    },
    {
      "cell_type": "code",
      "execution_count": null,
      "metadata": {
        "id": "62mcxKTjZB3B",
        "outputId": "adfc897c-b45d-4c63-f030-55896ac5e538"
      },
      "outputs": [
        {
          "data": {
            "text/html": [
              "<div>\n",
              "<style scoped>\n",
              "    .dataframe tbody tr th:only-of-type {\n",
              "        vertical-align: middle;\n",
              "    }\n",
              "\n",
              "    .dataframe tbody tr th {\n",
              "        vertical-align: top;\n",
              "    }\n",
              "\n",
              "    .dataframe thead th {\n",
              "        text-align: right;\n",
              "    }\n",
              "</style>\n",
              "<table border=\"1\" class=\"dataframe\">\n",
              "  <thead>\n",
              "    <tr style=\"text-align: right;\">\n",
              "      <th></th>\n",
              "      <th>paradigm</th>\n",
              "      <th>creator</th>\n",
              "      <th>year</th>\n",
              "      <th>tiobe_idx</th>\n",
              "    </tr>\n",
              "  </thead>\n",
              "  <tbody>\n",
              "    <tr>\n",
              "      <th>count</th>\n",
              "      <td>6</td>\n",
              "      <td>6</td>\n",
              "      <td>6.000000</td>\n",
              "      <td>6.000000</td>\n",
              "    </tr>\n",
              "    <tr>\n",
              "      <th>unique</th>\n",
              "      <td>3</td>\n",
              "      <td>6</td>\n",
              "      <td>NaN</td>\n",
              "      <td>NaN</td>\n",
              "    </tr>\n",
              "    <tr>\n",
              "      <th>top</th>\n",
              "      <td>multi</td>\n",
              "      <td>John McCarthy</td>\n",
              "      <td>NaN</td>\n",
              "      <td>NaN</td>\n",
              "    </tr>\n",
              "    <tr>\n",
              "      <th>freq</th>\n",
              "      <td>4</td>\n",
              "      <td>1</td>\n",
              "      <td>NaN</td>\n",
              "      <td>NaN</td>\n",
              "    </tr>\n",
              "    <tr>\n",
              "      <th>mean</th>\n",
              "      <td>NaN</td>\n",
              "      <td>NaN</td>\n",
              "      <td>1982.666667</td>\n",
              "      <td>19.500000</td>\n",
              "    </tr>\n",
              "    <tr>\n",
              "      <th>std</th>\n",
              "      <td>NaN</td>\n",
              "      <td>NaN</td>\n",
              "      <td>14.908610</td>\n",
              "      <td>18.598387</td>\n",
              "    </tr>\n",
              "    <tr>\n",
              "      <th>min</th>\n",
              "      <td>NaN</td>\n",
              "      <td>NaN</td>\n",
              "      <td>1958.000000</td>\n",
              "      <td>1.000000</td>\n",
              "    </tr>\n",
              "    <tr>\n",
              "      <th>25%</th>\n",
              "      <td>NaN</td>\n",
              "      <td>NaN</td>\n",
              "      <td>1975.250000</td>\n",
              "      <td>3.250000</td>\n",
              "    </tr>\n",
              "    <tr>\n",
              "      <th>50%</th>\n",
              "      <td>NaN</td>\n",
              "      <td>NaN</td>\n",
              "      <td>1987.500000</td>\n",
              "      <td>18.500000</td>\n",
              "    </tr>\n",
              "    <tr>\n",
              "      <th>75%</th>\n",
              "      <td>NaN</td>\n",
              "      <td>NaN</td>\n",
              "      <td>1993.750000</td>\n",
              "      <td>35.250000</td>\n",
              "    </tr>\n",
              "    <tr>\n",
              "      <th>max</th>\n",
              "      <td>NaN</td>\n",
              "      <td>NaN</td>\n",
              "      <td>1996.000000</td>\n",
              "      <td>40.000000</td>\n",
              "    </tr>\n",
              "  </tbody>\n",
              "</table>\n",
              "</div>"
            ],
            "text/plain": [
              "       paradigm        creator         year  tiobe_idx\n",
              "count         6              6     6.000000   6.000000\n",
              "unique        3              6          NaN        NaN\n",
              "top       multi  John McCarthy          NaN        NaN\n",
              "freq          4              1          NaN        NaN\n",
              "mean        NaN            NaN  1982.666667  19.500000\n",
              "std         NaN            NaN    14.908610  18.598387\n",
              "min         NaN            NaN  1958.000000   1.000000\n",
              "25%         NaN            NaN  1975.250000   3.250000\n",
              "50%         NaN            NaN  1987.500000  18.500000\n",
              "75%         NaN            NaN  1993.750000  35.250000\n",
              "max         NaN            NaN  1996.000000  40.000000"
            ]
          },
          "execution_count": 56,
          "metadata": {},
          "output_type": "execute_result"
        }
      ],
      "source": [
        "# If there are numerical columns then only those columns' statistics are included by default --\n",
        "# the include parameter can be used to produce all:\n",
        "df.describe(include=\"all\")"
      ]
    },
    {
      "cell_type": "markdown",
      "metadata": {
        "id": "oxMoDJXvZB3B"
      },
      "source": [
        "## Cleaning the data"
      ]
    },
    {
      "cell_type": "markdown",
      "metadata": {
        "id": "NpSUL_nnZB3B"
      },
      "source": [
        "### Missing data\n",
        "Many data sets have missing data in certain examples, in Pandas this is typically represented by NaN (\"not a number\") values. One way of dealing with this problem is to simply delete all problematic cases. In Pandas this can be done with the [dropna](https://pandas.pydata.org/pandas-docs/stable/generated/pandas.DataFrame.dropna.html) method of data frames, which, among others, can delete all rows with missing values."
      ]
    },
    {
      "cell_type": "code",
      "execution_count": null,
      "metadata": {
        "id": "qIK48E4QZB3B",
        "outputId": "13938f72-1d51-4719-ef57-f46507530b3c"
      },
      "outputs": [
        {
          "data": {
            "text/html": [
              "<div>\n",
              "<style scoped>\n",
              "    .dataframe tbody tr th:only-of-type {\n",
              "        vertical-align: middle;\n",
              "    }\n",
              "\n",
              "    .dataframe tbody tr th {\n",
              "        vertical-align: top;\n",
              "    }\n",
              "\n",
              "    .dataframe thead th {\n",
              "        text-align: right;\n",
              "    }\n",
              "</style>\n",
              "<table border=\"1\" class=\"dataframe\">\n",
              "  <thead>\n",
              "    <tr style=\"text-align: right;\">\n",
              "      <th></th>\n",
              "      <th>paradigm</th>\n",
              "      <th>creator</th>\n",
              "      <th>year</th>\n",
              "      <th>tiobe_idx</th>\n",
              "    </tr>\n",
              "  </thead>\n",
              "  <tbody>\n",
              "    <tr>\n",
              "      <th>count</th>\n",
              "      <td>6</td>\n",
              "      <td>6</td>\n",
              "      <td>6.000000</td>\n",
              "      <td>6.000000</td>\n",
              "    </tr>\n",
              "    <tr>\n",
              "      <th>unique</th>\n",
              "      <td>3</td>\n",
              "      <td>6</td>\n",
              "      <td>NaN</td>\n",
              "      <td>NaN</td>\n",
              "    </tr>\n",
              "    <tr>\n",
              "      <th>top</th>\n",
              "      <td>multi</td>\n",
              "      <td>John McCarthy</td>\n",
              "      <td>NaN</td>\n",
              "      <td>NaN</td>\n",
              "    </tr>\n",
              "    <tr>\n",
              "      <th>freq</th>\n",
              "      <td>4</td>\n",
              "      <td>1</td>\n",
              "      <td>NaN</td>\n",
              "      <td>NaN</td>\n",
              "    </tr>\n",
              "    <tr>\n",
              "      <th>mean</th>\n",
              "      <td>NaN</td>\n",
              "      <td>NaN</td>\n",
              "      <td>1982.666667</td>\n",
              "      <td>19.500000</td>\n",
              "    </tr>\n",
              "    <tr>\n",
              "      <th>std</th>\n",
              "      <td>NaN</td>\n",
              "      <td>NaN</td>\n",
              "      <td>14.908610</td>\n",
              "      <td>18.598387</td>\n",
              "    </tr>\n",
              "    <tr>\n",
              "      <th>min</th>\n",
              "      <td>NaN</td>\n",
              "      <td>NaN</td>\n",
              "      <td>1958.000000</td>\n",
              "      <td>1.000000</td>\n",
              "    </tr>\n",
              "    <tr>\n",
              "      <th>25%</th>\n",
              "      <td>NaN</td>\n",
              "      <td>NaN</td>\n",
              "      <td>1975.250000</td>\n",
              "      <td>3.250000</td>\n",
              "    </tr>\n",
              "    <tr>\n",
              "      <th>50%</th>\n",
              "      <td>NaN</td>\n",
              "      <td>NaN</td>\n",
              "      <td>1987.500000</td>\n",
              "      <td>18.500000</td>\n",
              "    </tr>\n",
              "    <tr>\n",
              "      <th>75%</th>\n",
              "      <td>NaN</td>\n",
              "      <td>NaN</td>\n",
              "      <td>1993.750000</td>\n",
              "      <td>35.250000</td>\n",
              "    </tr>\n",
              "    <tr>\n",
              "      <th>max</th>\n",
              "      <td>NaN</td>\n",
              "      <td>NaN</td>\n",
              "      <td>1996.000000</td>\n",
              "      <td>40.000000</td>\n",
              "    </tr>\n",
              "  </tbody>\n",
              "</table>\n",
              "</div>"
            ],
            "text/plain": [
              "       paradigm        creator         year  tiobe_idx\n",
              "count         6              6     6.000000   6.000000\n",
              "unique        3              6          NaN        NaN\n",
              "top       multi  John McCarthy          NaN        NaN\n",
              "freq          4              1          NaN        NaN\n",
              "mean        NaN            NaN  1982.666667  19.500000\n",
              "std         NaN            NaN    14.908610  18.598387\n",
              "min         NaN            NaN  1958.000000   1.000000\n",
              "25%         NaN            NaN  1975.250000   3.250000\n",
              "50%         NaN            NaN  1987.500000  18.500000\n",
              "75%         NaN            NaN  1993.750000  35.250000\n",
              "max         NaN            NaN  1996.000000  40.000000"
            ]
          },
          "execution_count": 57,
          "metadata": {},
          "output_type": "execute_result"
        }
      ],
      "source": [
        "df.describe(include=\"all\")"
      ]
    },
    {
      "cell_type": "code",
      "execution_count": null,
      "metadata": {
        "id": "j3CwV1QaZB3B",
        "outputId": "8b0b9b06-5435-4da4-bc83-cea36024e073"
      },
      "outputs": [
        {
          "data": {
            "text/html": [
              "<div>\n",
              "<style scoped>\n",
              "    .dataframe tbody tr th:only-of-type {\n",
              "        vertical-align: middle;\n",
              "    }\n",
              "\n",
              "    .dataframe tbody tr th {\n",
              "        vertical-align: top;\n",
              "    }\n",
              "\n",
              "    .dataframe thead th {\n",
              "        text-align: right;\n",
              "    }\n",
              "</style>\n",
              "<table border=\"1\" class=\"dataframe\">\n",
              "  <thead>\n",
              "    <tr style=\"text-align: right;\">\n",
              "      <th></th>\n",
              "      <th>paradigm</th>\n",
              "      <th>creator</th>\n",
              "      <th>year</th>\n",
              "      <th>tiobe_idx</th>\n",
              "    </tr>\n",
              "  </thead>\n",
              "  <tbody>\n",
              "    <tr>\n",
              "      <th>count</th>\n",
              "      <td>6</td>\n",
              "      <td>6</td>\n",
              "      <td>6.0</td>\n",
              "      <td>6.0</td>\n",
              "    </tr>\n",
              "  </tbody>\n",
              "</table>\n",
              "</div>"
            ],
            "text/plain": [
              "      paradigm creator  year  tiobe_idx\n",
              "count        6       6   6.0        6.0"
            ]
          },
          "execution_count": 58,
          "metadata": {},
          "output_type": "execute_result"
        }
      ],
      "source": [
        "df.describe(include=\"all\").dropna()\n",
        "\n"
      ]
    },
    {
      "cell_type": "markdown",
      "metadata": {
        "id": "XWjT5X1LZB3B"
      },
      "source": [
        "Since removing all cases with missing data can distort the data set and introduce bias, methods have been developed to __impute__ missing values, and keep the problematic examples. Trivial approaches include imputing the mean or the median for numerical columns but far more sophisticated approaches exist.\n",
        "\n",
        "**For more detailed methods see [here](https://towardsdatascience.com/how-to-handle-missing-data-8646b18db0d4).**"
      ]
    },
    {
      "cell_type": "markdown",
      "metadata": {
        "id": "pUt9h1yDZB3B"
      },
      "source": [
        "###  Label encoding \n",
        "In certain situations it is important to encode categorical data described by textual labels into numerical values -- this can be useful both for efficiency of representation and for certain learning algorithms.\n",
        "\n",
        "Most frequently the labels will initially be represented by strings in Pandas, so our task is to encode these textual labels into \n",
        "numbers."
      ]
    },
    {
      "cell_type": "code",
      "execution_count": null,
      "metadata": {
        "id": "FS2mOxxgZB3B",
        "outputId": "f1fec388-c1fd-4e62-fdf9-46a940ce393c"
      },
      "outputs": [
        {
          "data": {
            "text/plain": [
              "multi         4\n",
              "functional    1\n",
              "logic         1\n",
              "Name: paradigm, dtype: int64"
            ]
          },
          "execution_count": 59,
          "metadata": {},
          "output_type": "execute_result"
        }
      ],
      "source": [
        "# We try to encode the 'paradigm' labels\n",
        "df.paradigm.value_counts() # How many different values are in the column"
      ]
    },
    {
      "cell_type": "markdown",
      "metadata": {
        "id": "EM9MDWHcZB3B"
      },
      "source": [
        "Two of the most simple strategies to solve the problem is to\n",
        "+ map the $k$ category values to numbers $0,\\dots,k-1$, or\n",
        "+ use a so-called <b>one-hot (aka dummy) encoding </b> and introduce a separate binary feature/column for each category."
      ]
    },
    {
      "cell_type": "markdown",
      "metadata": {
        "id": "ALShi0UpZB3C"
      },
      "source": [
        "Pandas ha a dedicated categorical data type for this type of data, so the first strategy can be implemented by\n",
        "converting the column into a category column:"
      ]
    },
    {
      "cell_type": "code",
      "execution_count": null,
      "metadata": {
        "id": "XZ88NIJ2ZB3C",
        "outputId": "037fa552-2608-4900-bc48-dd344b4d78b6"
      },
      "outputs": [
        {
          "data": {
            "text/plain": [
              "Python          multi\n",
              "Lisp            multi\n",
              "Cpp             multi\n",
              "Java            multi\n",
              "Haskell    functional\n",
              "Prolog          logic\n",
              "Name: paradigm_cat, dtype: category\n",
              "Categories (3, object): [functional, logic, multi]"
            ]
          },
          "execution_count": 60,
          "metadata": {},
          "output_type": "execute_result"
        }
      ],
      "source": [
        "df.insert(1, \"paradigm_cat\", df.paradigm.astype(\"category\"))\n",
        "df.paradigm_cat"
      ]
    },
    {
      "cell_type": "markdown",
      "metadata": {
        "id": "nje88k7cZB3C"
      },
      "source": [
        "Internally, Pandas automatically maintains a list of numeric codes for the categories, and a version of the column which is encoded with these codes is also available:"
      ]
    },
    {
      "cell_type": "code",
      "execution_count": null,
      "metadata": {
        "id": "SrHmdgQeZB3C",
        "outputId": "d41f53c9-6d6f-4acd-8c6c-6fb9b9aa2cd1"
      },
      "outputs": [
        {
          "data": {
            "text/plain": [
              "Python     2\n",
              "Lisp       2\n",
              "Cpp        2\n",
              "Java       2\n",
              "Haskell    0\n",
              "Prolog     1\n",
              "dtype: int8"
            ]
          },
          "execution_count": 61,
          "metadata": {},
          "output_type": "execute_result"
        }
      ],
      "source": [
        "df.paradigm_cat.cat.codes"
      ]
    },
    {
      "cell_type": "markdown",
      "metadata": {
        "id": "mRDGmDnZZB3C"
      },
      "source": [
        "so we can simply add this as a new column:"
      ]
    },
    {
      "cell_type": "code",
      "execution_count": null,
      "metadata": {
        "id": "jwm2VVLDZB3C",
        "outputId": "9c72fced-c63c-4001-d83c-de173b1e4795"
      },
      "outputs": [
        {
          "data": {
            "text/html": [
              "<div>\n",
              "<style scoped>\n",
              "    .dataframe tbody tr th:only-of-type {\n",
              "        vertical-align: middle;\n",
              "    }\n",
              "\n",
              "    .dataframe tbody tr th {\n",
              "        vertical-align: top;\n",
              "    }\n",
              "\n",
              "    .dataframe thead th {\n",
              "        text-align: right;\n",
              "    }\n",
              "</style>\n",
              "<table border=\"1\" class=\"dataframe\">\n",
              "  <thead>\n",
              "    <tr style=\"text-align: right;\">\n",
              "      <th></th>\n",
              "      <th>paradigm</th>\n",
              "      <th>paradigm_cat</th>\n",
              "      <th>paradigm_code</th>\n",
              "      <th>creator</th>\n",
              "      <th>year</th>\n",
              "      <th>tiobe_idx</th>\n",
              "    </tr>\n",
              "  </thead>\n",
              "  <tbody>\n",
              "    <tr>\n",
              "      <th>Python</th>\n",
              "      <td>multi</td>\n",
              "      <td>multi</td>\n",
              "      <td>2</td>\n",
              "      <td>Guido van Rossum</td>\n",
              "      <td>1995</td>\n",
              "      <td>3</td>\n",
              "    </tr>\n",
              "    <tr>\n",
              "      <th>Lisp</th>\n",
              "      <td>multi</td>\n",
              "      <td>multi</td>\n",
              "      <td>2</td>\n",
              "      <td>John McCarthy</td>\n",
              "      <td>1958</td>\n",
              "      <td>33</td>\n",
              "    </tr>\n",
              "    <tr>\n",
              "      <th>Cpp</th>\n",
              "      <td>multi</td>\n",
              "      <td>multi</td>\n",
              "      <td>2</td>\n",
              "      <td>Bjarne Stroustrup</td>\n",
              "      <td>1985</td>\n",
              "      <td>4</td>\n",
              "    </tr>\n",
              "    <tr>\n",
              "      <th>Java</th>\n",
              "      <td>multi</td>\n",
              "      <td>multi</td>\n",
              "      <td>2</td>\n",
              "      <td>James Gosling</td>\n",
              "      <td>1996</td>\n",
              "      <td>1</td>\n",
              "    </tr>\n",
              "    <tr>\n",
              "      <th>Haskell</th>\n",
              "      <td>functional</td>\n",
              "      <td>functional</td>\n",
              "      <td>0</td>\n",
              "      <td>Lennart Augustsson</td>\n",
              "      <td>1990</td>\n",
              "      <td>40</td>\n",
              "    </tr>\n",
              "    <tr>\n",
              "      <th>Prolog</th>\n",
              "      <td>logic</td>\n",
              "      <td>logic</td>\n",
              "      <td>1</td>\n",
              "      <td>Alain Colmerauer</td>\n",
              "      <td>1972</td>\n",
              "      <td>36</td>\n",
              "    </tr>\n",
              "  </tbody>\n",
              "</table>\n",
              "</div>"
            ],
            "text/plain": [
              "           paradigm paradigm_cat  paradigm_code             creator  year  \\\n",
              "Python        multi        multi              2    Guido van Rossum  1995   \n",
              "Lisp          multi        multi              2       John McCarthy  1958   \n",
              "Cpp           multi        multi              2   Bjarne Stroustrup  1985   \n",
              "Java          multi        multi              2       James Gosling  1996   \n",
              "Haskell  functional   functional              0  Lennart Augustsson  1990   \n",
              "Prolog        logic        logic              1    Alain Colmerauer  1972   \n",
              "\n",
              "         tiobe_idx  \n",
              "Python           3  \n",
              "Lisp            33  \n",
              "Cpp              4  \n",
              "Java             1  \n",
              "Haskell         40  \n",
              "Prolog          36  "
            ]
          },
          "execution_count": 62,
          "metadata": {},
          "output_type": "execute_result"
        }
      ],
      "source": [
        "df.insert(2, \"paradigm_code\", df.paradigm_cat.cat.codes)\n",
        "df"
      ]
    },
    {
      "cell_type": "markdown",
      "metadata": {
        "id": "ah5ClqxeZB3C"
      },
      "source": [
        "One-hot encoding can be achieved by using the [get_dummies](http://pandas.pydata.org/pandas-docs/stable/generated/pandas.get_dummies.html) method. This one-hot encodes all columns of `category` or `object` dtype by default, but accepts a `columns` argument, which can explicitly list the columns to be encoded."
      ]
    },
    {
      "cell_type": "code",
      "execution_count": null,
      "metadata": {
        "id": "pJ6CVnQHZB3C",
        "outputId": "95f133e7-3d27-4406-fdc8-ff1235bf9f4a"
      },
      "outputs": [
        {
          "data": {
            "text/html": [
              "<div>\n",
              "<style scoped>\n",
              "    .dataframe tbody tr th:only-of-type {\n",
              "        vertical-align: middle;\n",
              "    }\n",
              "\n",
              "    .dataframe tbody tr th {\n",
              "        vertical-align: top;\n",
              "    }\n",
              "\n",
              "    .dataframe thead th {\n",
              "        text-align: right;\n",
              "    }\n",
              "</style>\n",
              "<table border=\"1\" class=\"dataframe\">\n",
              "  <thead>\n",
              "    <tr style=\"text-align: right;\">\n",
              "      <th></th>\n",
              "      <th>paradigm</th>\n",
              "      <th>paradigm_code</th>\n",
              "      <th>creator</th>\n",
              "      <th>year</th>\n",
              "      <th>tiobe_idx</th>\n",
              "      <th>paradigm_cat_functional</th>\n",
              "      <th>paradigm_cat_logic</th>\n",
              "      <th>paradigm_cat_multi</th>\n",
              "    </tr>\n",
              "  </thead>\n",
              "  <tbody>\n",
              "    <tr>\n",
              "      <th>Python</th>\n",
              "      <td>multi</td>\n",
              "      <td>2</td>\n",
              "      <td>Guido van Rossum</td>\n",
              "      <td>1995</td>\n",
              "      <td>3</td>\n",
              "      <td>0</td>\n",
              "      <td>0</td>\n",
              "      <td>1</td>\n",
              "    </tr>\n",
              "    <tr>\n",
              "      <th>Lisp</th>\n",
              "      <td>multi</td>\n",
              "      <td>2</td>\n",
              "      <td>John McCarthy</td>\n",
              "      <td>1958</td>\n",
              "      <td>33</td>\n",
              "      <td>0</td>\n",
              "      <td>0</td>\n",
              "      <td>1</td>\n",
              "    </tr>\n",
              "    <tr>\n",
              "      <th>Cpp</th>\n",
              "      <td>multi</td>\n",
              "      <td>2</td>\n",
              "      <td>Bjarne Stroustrup</td>\n",
              "      <td>1985</td>\n",
              "      <td>4</td>\n",
              "      <td>0</td>\n",
              "      <td>0</td>\n",
              "      <td>1</td>\n",
              "    </tr>\n",
              "    <tr>\n",
              "      <th>Java</th>\n",
              "      <td>multi</td>\n",
              "      <td>2</td>\n",
              "      <td>James Gosling</td>\n",
              "      <td>1996</td>\n",
              "      <td>1</td>\n",
              "      <td>0</td>\n",
              "      <td>0</td>\n",
              "      <td>1</td>\n",
              "    </tr>\n",
              "    <tr>\n",
              "      <th>Haskell</th>\n",
              "      <td>functional</td>\n",
              "      <td>0</td>\n",
              "      <td>Lennart Augustsson</td>\n",
              "      <td>1990</td>\n",
              "      <td>40</td>\n",
              "      <td>1</td>\n",
              "      <td>0</td>\n",
              "      <td>0</td>\n",
              "    </tr>\n",
              "    <tr>\n",
              "      <th>Prolog</th>\n",
              "      <td>logic</td>\n",
              "      <td>1</td>\n",
              "      <td>Alain Colmerauer</td>\n",
              "      <td>1972</td>\n",
              "      <td>36</td>\n",
              "      <td>0</td>\n",
              "      <td>1</td>\n",
              "      <td>0</td>\n",
              "    </tr>\n",
              "  </tbody>\n",
              "</table>\n",
              "</div>"
            ],
            "text/plain": [
              "           paradigm  paradigm_code             creator  year  tiobe_idx  \\\n",
              "Python        multi              2    Guido van Rossum  1995          3   \n",
              "Lisp          multi              2       John McCarthy  1958         33   \n",
              "Cpp           multi              2   Bjarne Stroustrup  1985          4   \n",
              "Java          multi              2       James Gosling  1996          1   \n",
              "Haskell  functional              0  Lennart Augustsson  1990         40   \n",
              "Prolog        logic              1    Alain Colmerauer  1972         36   \n",
              "\n",
              "         paradigm_cat_functional  paradigm_cat_logic  paradigm_cat_multi  \n",
              "Python                         0                   0                   1  \n",
              "Lisp                           0                   0                   1  \n",
              "Cpp                            0                   0                   1  \n",
              "Java                           0                   0                   1  \n",
              "Haskell                        1                   0                   0  \n",
              "Prolog                         0                   1                   0  "
            ]
          },
          "execution_count": 63,
          "metadata": {},
          "output_type": "execute_result"
        }
      ],
      "source": [
        "df_one_hot = pd.get_dummies(df, columns=[\"paradigm_cat\"])\n",
        "df_one_hot"
      ]
    },
    {
      "cell_type": "markdown",
      "metadata": {
        "id": "VFlpbZeEZB3C"
      },
      "source": [
        "### Normalization"
      ]
    },
    {
      "cell_type": "markdown",
      "metadata": {
        "collapsed": true,
        "id": "inBYr-BeZB3C"
      },
      "source": [
        "For certain models the scale of the input variebles is of paramount importance, so it is generally condsidered a good practice to transform the inputs towards zero mean and unit variance. Simplest approach is to use ScikitLearn's [standard scaler](http://scikit-learn.org/stable/modules/generated/sklearn.preprocessing.StandardScaler.html), but more methods exist. See [here](https://en.wikipedia.org/wiki/Feature_scaling) for details."
      ]
    }
  ],
  "metadata": {
    "kernelspec": {
      "display_name": "Python 3",
      "language": "python",
      "name": "python3"
    },
    "language_info": {
      "codemirror_mode": {
        "name": "ipython",
        "version": 3
      },
      "file_extension": ".py",
      "mimetype": "text/x-python",
      "name": "python",
      "nbconvert_exporter": "python",
      "pygments_lexer": "ipython3",
      "version": "3.7.7"
    },
    "nbTranslate": {
      "displayLangs": [
        "*"
      ],
      "hotkey": "alt-t",
      "langInMainMenu": true,
      "sourceLang": "en",
      "targetLang": "fr",
      "useGoogleTranslate": true
    },
    "toc": {
      "base_numbering": 1,
      "nav_menu": {},
      "number_sections": true,
      "sideBar": true,
      "skip_h1_title": false,
      "title_cell": "Table of Contents",
      "title_sidebar": "Contents",
      "toc_cell": false,
      "toc_position": {
        "height": "calc(100% - 180px)",
        "left": "10px",
        "top": "150px",
        "width": "244.667px"
      },
      "toc_section_display": true,
      "toc_window_display": false
    },
    "varInspector": {
      "cols": {
        "lenName": 16,
        "lenType": 16,
        "lenVar": 40
      },
      "kernels_config": {
        "python": {
          "delete_cmd_postfix": "",
          "delete_cmd_prefix": "del ",
          "library": "var_list.py",
          "varRefreshCmd": "print(var_dic_list())"
        },
        "r": {
          "delete_cmd_postfix": ") ",
          "delete_cmd_prefix": "rm(",
          "library": "var_list.r",
          "varRefreshCmd": "cat(var_dic_list()) "
        }
      },
      "position": {
        "height": "544px",
        "left": "1549px",
        "right": "7px",
        "top": "103px",
        "width": "362px"
      },
      "types_to_exclude": [
        "module",
        "function",
        "builtin_function_or_method",
        "instance",
        "_Feature"
      ],
      "window_display": false
    },
    "colab": {
      "name": "Day1-Practice-Introduction_to_Python_and_Pandas.ipynb",
      "provenance": [],
      "include_colab_link": true
    }
  },
  "nbformat": 4,
  "nbformat_minor": 0
}