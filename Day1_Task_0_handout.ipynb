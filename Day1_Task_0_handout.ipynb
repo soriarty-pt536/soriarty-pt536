{
  "cells": [
    {
      "cell_type": "markdown",
      "metadata": {
        "id": "view-in-github",
        "colab_type": "text"
      },
      "source": [
        "<a href=\"https://colab.research.google.com/github/soriarty-pt536/soriarty-pt536/blob/main/Day1_Task_0_handout.ipynb\" target=\"_parent\"><img src=\"https://colab.research.google.com/assets/colab-badge.svg\" alt=\"Open In Colab\"/></a>"
      ]
    },
    {
      "cell_type": "markdown",
      "metadata": {
        "id": "bkjGaYj2ZJGl"
      },
      "source": [
        "## Task 1\n",
        "\n",
        "Handling variables:<br>\n",
        "- Set the variable “radius” to value of 4 <br>\n",
        "- Calculate the area of circle,  please remember that the area of a circle is  pi x radius^2<br>\n",
        "- The rectangle width should be 10 and a rectangle height should be 6.\n"
      ]
    },
    {
      "cell_type": "code",
      "execution_count": null,
      "metadata": {
        "id": "2_fu3RNBZJGs"
      },
      "outputs": [],
      "source": [
        "import math\n",
        "pi = math.pi\n",
        "# set the radius to value 4\n",
        "radius = ...\n",
        "# Calculate the area of circle\n",
        "area_of_circle= ...\n",
        "# The rectangle width should be 10 and a rectangle height should be 6.\n",
        "rectangle_width= ...\n",
        "rectangle_height= ...\n"
      ]
    },
    {
      "cell_type": "markdown",
      "metadata": {
        "id": "FriNQcoxZJGt"
      },
      "source": [
        "## Assert Cells\n",
        "\n",
        "During  practice sessions sometimes you will see “assert” cells, which can check your work. \n",
        "In these cells you will usually see only assert lines, which check the result of your previous cells.<br>\n",
        "You have to run them and please do not change them. If you get an error please check your  implementation in the previous cells. Sometimes it can happen that you mess up your own work, maybe re run all cells could help (You can run all the cells by one click,  search for run all in the menu)\n"
      ]
    },
    {
      "cell_type": "code",
      "execution_count": null,
      "metadata": {
        "id": "yD5Aqb_FZJGt"
      },
      "outputs": [],
      "source": [
        "# You have to run this cell and please do not change the lines\n",
        "assert (int(area_of_circle )== 50),\"check your implementation\"\n",
        "assert (int(rectangle_width * rectangle_height)== 60),\"check your implementation\"\n"
      ]
    },
    {
      "cell_type": "markdown",
      "metadata": {
        "id": "2qdsgve5ZJGu"
      },
      "source": [
        "## Task 2\n",
        "\n",
        "- Please print  the  \"area_of_circle\".\n",
        "- The second time please print the same value with 2 decimal points\n",
        "\n",
        "String formatting hints e.g. here: <a href=\"https://pyformat.info/\">pyformat</a>"
      ]
    },
    {
      "cell_type": "code",
      "execution_count": null,
      "metadata": {
        "id": "YU5ToVqCZJGu",
        "outputId": "66869c85-e582-49b8-cfa5-f37048827756"
      },
      "outputs": [
        {
          "name": "stdout",
          "output_type": "stream",
          "text": [
            "area of circle:  50.26548245743669\n",
            "area of circle: 50.27\n"
          ]
        }
      ],
      "source": [
        "#let's practice printing, write your code to the ...\n",
        "print(\"area of circle: \" ...)\n",
        "#let's practice printing, write your code to the ..., now its is different notice the %.2f in the first half\n",
        "print(\"area of circle: %.2f\" ... )"
      ]
    },
    {
      "cell_type": "markdown",
      "metadata": {
        "id": "1xg63Z4QZJGv"
      },
      "source": [
        "## Task 3\n",
        "Now let's change the radius and print out the value of the \"area_of_circle\":<br>\n",
        "Set the radius variable to 3 and print \"area_of_circle\". Is the \"area_of_circle\" changed?"
      ]
    },
    {
      "cell_type": "code",
      "execution_count": null,
      "metadata": {
        "id": "cwD-B7R_ZJGw",
        "outputId": "61563fcd-490f-46f6-fee4-8fa8441385f3"
      },
      "outputs": [
        {
          "name": "stdout",
          "output_type": "stream",
          "text": [
            "50.26548245743669\n"
          ]
        }
      ],
      "source": [
        "# Set the radius variable to 3\n",
        "radius = ...\n",
        "# print \"area_of_circle\"\n",
        "print(...)"
      ]
    },
    {
      "cell_type": "markdown",
      "metadata": {
        "id": "ninK5dYnZJGx"
      },
      "source": [
        "What do you have to do to change value of the \"area_of_circle\"?"
      ]
    },
    {
      "cell_type": "code",
      "execution_count": null,
      "metadata": {
        "id": "zxm3afGnZJGx",
        "outputId": "41e10d08-59a4-47c1-850f-f736f271386d"
      },
      "outputs": [
        {
          "name": "stdout",
          "output_type": "stream",
          "text": [
            "28.274333882308138\n"
          ]
        }
      ],
      "source": [
        "# implement the area_of_circle again\n",
        "area_of_circle = ...\n",
        "print(area_of_circle)"
      ]
    },
    {
      "cell_type": "markdown",
      "metadata": {
        "id": "x3JOJXalZJGy"
      },
      "source": [
        "See, now your code is duplicated. Why is it bad, what do you think? <br>\n",
        "Hopefully you answered now, that is one of the reasons, why people use objects and functions...<br>\n",
        "<br>\n",
        "So let's create a function with the name \"area_of_circle_func\" and one imput parameter \"radius\":"
      ]
    },
    {
      "cell_type": "code",
      "execution_count": null,
      "metadata": {
        "id": "0Fck7M2oZJGy",
        "outputId": "d3a34f76-4c6e-42d4-f3fa-d72c759e60c2"
      },
      "outputs": [
        {
          "name": "stdout",
          "output_type": "stream",
          "text": [
            "28.274333882308138\n"
          ]
        }
      ],
      "source": [
        "# fix the head of the funciton\n",
        "... area_of_circle_func(...\n",
        "    # implement the area_of_circle again\n",
        "    return  ...\n",
        "\n",
        "# just an example, calling the above defined function:\n",
        "print(area_of_circle_func(3))"
      ]
    },
    {
      "cell_type": "code",
      "execution_count": null,
      "metadata": {
        "id": "zWhNBs92ZJGz"
      },
      "outputs": [],
      "source": [
        "assert (int(area_of_circle_func(345) )== 373928),\"check your implementation\"\n"
      ]
    },
    {
      "cell_type": "markdown",
      "metadata": {
        "id": "ai3noVxGZJGz"
      },
      "source": [
        "## Task 4\n",
        "\n",
        "Let's check if the area of the circle is less than 20. If yes we consider it as a small circle, otherwise big circle"
      ]
    },
    {
      "cell_type": "code",
      "execution_count": null,
      "metadata": {
        "id": "YZnxxnb5ZJGz",
        "outputId": "3ecf37a1-673f-43ea-96e9-2b668462e00a"
      },
      "outputs": [
        {
          "name": "stdout",
          "output_type": "stream",
          "text": [
            "this is a big circle\n"
          ]
        }
      ],
      "source": [
        "#implement the first half of the if.\n",
        "...:\n",
        "    print(\"this is a small circle\")\n",
        "    #implement otherwise:\n",
        "...:\n",
        "    print(\"this is a big circle\")"
      ]
    },
    {
      "cell_type": "markdown",
      "metadata": {
        "id": "boi7kPpgZJG0"
      },
      "source": [
        "\n",
        "Now please check if your circle fits into your rectangle like this, also check if the circle touches the rectangle: <br><img src=\"http://drive.google.com/uc?export=view&id=155NjGVqBVjXBFphV1_mHactWJM5fDQDV\"><br>\n",
        "(Let's assume the centers of the circle and the rectangle are at the same position)"
      ]
    },
    {
      "cell_type": "code",
      "execution_count": null,
      "metadata": {
        "id": "mFE5CFOiZJG0",
        "outputId": "a8c98ba6-c306-4060-fdcd-5c6c488a1128"
      },
      "outputs": [
        {
          "name": "stdout",
          "output_type": "stream",
          "text": [
            "circle fits into rectangle\n",
            "circle touches the side of rectangle\n"
          ]
        }
      ],
      "source": [
        "def check_if_circle_fits_into_the_ractangle(radius):\n",
        "    # implement diameter\n",
        "    diameter = ...\n",
        "    # check if diameter is smaller or equal to height\n",
        "    if diameter <= ...\n",
        "        # check if diameter is smaller or equal to width\n",
        "        if diameter <= ...\n",
        "            print(\"circle fits into rectangle\")\n",
        "            #check if the diameter is equal to the width or height\n",
        "            if ... or ...\n",
        "                print(\"circle touches the side of rectangle\")\n",
        "        else:\n",
        "            print(\"circle does not fit to rectangle, rectangle is not wide enough.\")\n",
        "    else:\n",
        "        print(\"circle does not fit to rectangle, rectangle is too small.\")\n",
        "\n",
        "# Play around with the input paramter change it to 4, and 2:\n",
        "check_if_circle_fits_into_the_ractangle(3)        "
      ]
    },
    {
      "cell_type": "markdown",
      "metadata": {
        "id": "29AGro4YZJG0"
      },
      "source": [
        "## Task 5\n",
        "- let's create a list of radius number between 1 and 10\n",
        "- create a loop, which prints the area for each circle radius\n",
        "- Create list with list comprehension\n",
        "- Introducing lambda\n"
      ]
    },
    {
      "cell_type": "code",
      "execution_count": null,
      "metadata": {
        "id": "6FHYVMBVZJG1",
        "outputId": "4b7ffba9-46fb-469e-d09a-599d47bec28b"
      },
      "outputs": [
        {
          "name": "stdout",
          "output_type": "stream",
          "text": [
            "Circle with radius 1 has area: 3.141592653589793\n",
            "circle fits into rectangle\n",
            "Circle with radius 2 has area: 12.566370614359172\n",
            "circle fits into rectangle\n",
            "Circle with radius 3 has area: 28.274333882308138\n",
            "circle fits into rectangle\n",
            "circle touches the side of rectangle\n",
            "Circle with radius 4 has area: 50.26548245743669\n",
            "circle does not fit to rectangle, rectangle is too small.\n",
            "Circle with radius 5 has area: 78.53981633974483\n",
            "circle does not fit to rectangle, rectangle is too small.\n",
            "Circle with radius 6 has area: 113.09733552923255\n",
            "circle does not fit to rectangle, rectangle is too small.\n",
            "Circle with radius 7 has area: 153.93804002589985\n",
            "circle does not fit to rectangle, rectangle is too small.\n",
            "Circle with radius 8 has area: 201.06192982974676\n",
            "circle does not fit to rectangle, rectangle is too small.\n",
            "Circle with radius 9 has area: 254.46900494077323\n",
            "circle does not fit to rectangle, rectangle is too small.\n",
            "Circle with radius 10 has area: 314.1592653589793\n",
            "circle does not fit to rectangle, rectangle is too small.\n"
          ]
        }
      ],
      "source": [
        "# implement the list creation, values should be between 1 and 10\n",
        "list_circle_radius=...\n",
        "# iterate through the list with \"for\", note what the code does within each iteration:\n",
        "...:\n",
        "    print(\"Circle with radius {r} has area: {area}\".format(r=r,area=area_of_circle_func(r)))\n",
        "    check_if_circle_fits_into_the_ractangle(r)"
      ]
    },
    {
      "cell_type": "markdown",
      "metadata": {
        "id": "jQhhRNisZJG1"
      },
      "source": [
        "Let's create now the list with list comprehensions. "
      ]
    },
    {
      "cell_type": "code",
      "execution_count": null,
      "metadata": {
        "id": "Lnxp1ooRZJG1",
        "outputId": "4ed9005e-984c-44e3-d23c-0cb1527427a2"
      },
      "outputs": [
        {
          "data": {
            "text/plain": [
              "[12.566370614359172,\n",
              " 50.26548245743669,\n",
              " 113.09733552923255,\n",
              " 201.06192982974676,\n",
              " 314.1592653589793]"
            ]
          },
          "execution_count": 11,
          "metadata": {},
          "output_type": "execute_result"
        }
      ],
      "source": [
        "# implement the list comprehension\n",
        "# call the area_of_circle_func for each radius which is in the list_circle_radius, \n",
        "# but only if the radius is even number\n",
        "# hint look at List comprehensions in the previous practice notebook\n",
        "area_of_even = [area_of_circle_func(r) for r in list_circle_radius if r % 2 == 0]\n",
        "area_of_even"
      ]
    },
    {
      "cell_type": "code",
      "execution_count": null,
      "metadata": {
        "id": "S7Hfe_zQZJG1",
        "outputId": "922e579f-135f-4f3e-c7f8-2d8e827fd148"
      },
      "outputs": [
        {
          "data": {
            "text/plain": [
              "[50.26548245743669,\n",
              " 201.06192982974676,\n",
              " 452.3893421169302,\n",
              " 804.247719318987,\n",
              " 1256.6370614359173]"
            ]
          },
          "execution_count": 12,
          "metadata": {},
          "output_type": "execute_result"
        }
      ],
      "source": [
        "def sphere_surface_func(r):\n",
        "    # return the surface of a sphere\n",
        "    # note surface of sphere is: 4 times pi multiplyed by radius^2\n",
        "    ...\n",
        "\n",
        "even_list_radius=list(range(2, 11,2))\n",
        "# Let's practice Lambda expression here:\n",
        "# call sphere_surface_func with lambda\n",
        "list_sphere_surface=list(map(...,even_list_radius))\n",
        "list_sphere_surface"
      ]
    },
    {
      "cell_type": "markdown",
      "metadata": {
        "id": "qT5IjuhxZJG2"
      },
      "source": [
        "How to handle the data together?"
      ]
    },
    {
      "cell_type": "code",
      "execution_count": null,
      "metadata": {
        "id": "6vJynsL2ZJG2",
        "outputId": "a6b0f717-967b-4d83-b892-80511f452c49"
      },
      "outputs": [
        {
          "data": {
            "text/plain": [
              "[[1, 2, 3, 4, 5, 6, 7, 8, 9, 10],\n",
              " [12.566370614359172,\n",
              "  50.26548245743669,\n",
              "  113.09733552923255,\n",
              "  201.06192982974676,\n",
              "  314.1592653589793],\n",
              " [50.26548245743669,\n",
              "  201.06192982974676,\n",
              "  452.3893421169302,\n",
              "  804.247719318987,\n",
              "  1256.6370614359173]]"
            ]
          },
          "execution_count": 13,
          "metadata": {},
          "output_type": "execute_result"
        }
      ],
      "source": [
        "# nothing to implement here, just draw conclusion\n",
        "# for handling the data together: a bad practice would be this:\n",
        "\n",
        "my_data=[list_circle_radius,area_of_even,list_sphere_surface]\n",
        "my_data\n",
        "\n",
        "# and then handling the indicies"
      ]
    },
    {
      "cell_type": "markdown",
      "metadata": {
        "id": "ZXgntSBKZJG2"
      },
      "source": [
        "Now we have multiple problems, right?\n",
        "- How to select one row?\n",
        "- How to filter rows?\n",
        "- How can you insert one row?\n",
        "\n",
        "It would be a huge hassle with the indices... "
      ]
    },
    {
      "cell_type": "code",
      "execution_count": null,
      "metadata": {
        "id": "zASWibWdZJG2"
      },
      "outputs": [],
      "source": [
        ""
      ]
    },
    {
      "cell_type": "markdown",
      "metadata": {
        "id": "yMDLmbWwZJG2"
      },
      "source": [
        "## Task 6\n",
        "\n",
        "Instead of array indexing, let's try to use pandas framework. <br>\n",
        "Remember pandas was created for the above  demonstrated problems,  but it's solves a lot more. <br>\n",
        "Let's create dataframe with similar data as above <br>"
      ]
    },
    {
      "cell_type": "code",
      "execution_count": null,
      "metadata": {
        "id": "JR7q7_C-ZJG2",
        "outputId": "ffc9f4a0-e1e7-4fb4-e6a7-0be450181f7e"
      },
      "outputs": [
        {
          "data": {
            "text/html": [
              "<div>\n",
              "<style scoped>\n",
              "    .dataframe tbody tr th:only-of-type {\n",
              "        vertical-align: middle;\n",
              "    }\n",
              "\n",
              "    .dataframe tbody tr th {\n",
              "        vertical-align: top;\n",
              "    }\n",
              "\n",
              "    .dataframe thead th {\n",
              "        text-align: right;\n",
              "    }\n",
              "</style>\n",
              "<table border=\"1\" class=\"dataframe\">\n",
              "  <thead>\n",
              "    <tr style=\"text-align: right;\">\n",
              "      <th></th>\n",
              "      <th>radius</th>\n",
              "      <th>diameter</th>\n",
              "      <th>area of circle</th>\n",
              "      <th>surface of sphere</th>\n",
              "    </tr>\n",
              "  </thead>\n",
              "  <tbody>\n",
              "    <tr>\n",
              "      <th>0</th>\n",
              "      <td>1</td>\n",
              "      <td>2</td>\n",
              "      <td>3.141593</td>\n",
              "      <td>12.566371</td>\n",
              "    </tr>\n",
              "    <tr>\n",
              "      <th>1</th>\n",
              "      <td>2</td>\n",
              "      <td>4</td>\n",
              "      <td>12.566371</td>\n",
              "      <td>50.265482</td>\n",
              "    </tr>\n",
              "    <tr>\n",
              "      <th>2</th>\n",
              "      <td>3</td>\n",
              "      <td>6</td>\n",
              "      <td>28.274334</td>\n",
              "      <td>113.097336</td>\n",
              "    </tr>\n",
              "    <tr>\n",
              "      <th>3</th>\n",
              "      <td>4</td>\n",
              "      <td>8</td>\n",
              "      <td>50.265482</td>\n",
              "      <td>201.061930</td>\n",
              "    </tr>\n",
              "    <tr>\n",
              "      <th>4</th>\n",
              "      <td>5</td>\n",
              "      <td>10</td>\n",
              "      <td>78.539816</td>\n",
              "      <td>314.159265</td>\n",
              "    </tr>\n",
              "    <tr>\n",
              "      <th>5</th>\n",
              "      <td>6</td>\n",
              "      <td>12</td>\n",
              "      <td>113.097336</td>\n",
              "      <td>452.389342</td>\n",
              "    </tr>\n",
              "    <tr>\n",
              "      <th>6</th>\n",
              "      <td>7</td>\n",
              "      <td>14</td>\n",
              "      <td>153.938040</td>\n",
              "      <td>615.752160</td>\n",
              "    </tr>\n",
              "    <tr>\n",
              "      <th>7</th>\n",
              "      <td>8</td>\n",
              "      <td>16</td>\n",
              "      <td>201.061930</td>\n",
              "      <td>804.247719</td>\n",
              "    </tr>\n",
              "    <tr>\n",
              "      <th>8</th>\n",
              "      <td>9</td>\n",
              "      <td>18</td>\n",
              "      <td>254.469005</td>\n",
              "      <td>1017.876020</td>\n",
              "    </tr>\n",
              "    <tr>\n",
              "      <th>9</th>\n",
              "      <td>10</td>\n",
              "      <td>20</td>\n",
              "      <td>314.159265</td>\n",
              "      <td>1256.637061</td>\n",
              "    </tr>\n",
              "  </tbody>\n",
              "</table>\n",
              "</div>"
            ],
            "text/plain": [
              "   radius  diameter  area of circle  surface of sphere\n",
              "0       1         2        3.141593          12.566371\n",
              "1       2         4       12.566371          50.265482\n",
              "2       3         6       28.274334         113.097336\n",
              "3       4         8       50.265482         201.061930\n",
              "4       5        10       78.539816         314.159265\n",
              "5       6        12      113.097336         452.389342\n",
              "6       7        14      153.938040         615.752160\n",
              "7       8        16      201.061930         804.247719\n",
              "8       9        18      254.469005        1017.876020\n",
              "9      10        20      314.159265        1256.637061"
            ]
          },
          "execution_count": 14,
          "metadata": {},
          "output_type": "execute_result"
        }
      ],
      "source": [
        "import pandas as pd\n",
        "\n",
        "#Please create a dataframe with the rows in radius list variable \"list_circle_radius\" to create it.\n",
        "df=...(...,columns=[\"radius\"])\n",
        "\n",
        "#now just add columns one by one easily, the diameter is 2 * radius\n",
        "df[\"diameter\"]=df[\"radius\"] * ...\n",
        "\n",
        "#add column \"area of circle\" use \"area_of_circle_func()\"\n",
        "df[\"area of circle\"]=...(df[\"radius\"])\n",
        "\n",
        "#add column \"surface of sphere\" try to use \".map()\" function together with \"sphere_surface_func()\"\n",
        "df[\"surface of sphere\"]= df[\"radius\"]....(lambda x: ... )\n",
        "\n",
        "df"
      ]
    },
    {
      "cell_type": "markdown",
      "metadata": {
        "id": "TUEwkYlxZJG3"
      },
      "source": [
        "please note inplace=True, drop=False, look what these are doing in the manual. Pandas <a href=\"https://pandas.pydata.org/pandas-docs/stable/reference/api/pandas.DataFrame.set_index.html\"> set_index manual</a>"
      ]
    },
    {
      "cell_type": "code",
      "execution_count": null,
      "metadata": {
        "id": "6-qjazNUZJG3"
      },
      "outputs": [],
      "source": [
        "\n",
        "#Please note that the indices doesn't match up with the radius values, this can lead to confusion later\n",
        "#set radius as index, so you can refer on rows by the radius later.\n",
        "df. ...(..., inplace=True, drop=False)\n",
        "# please note inplace=True, drop=False, look what these are doing in the manual. \n"
      ]
    },
    {
      "cell_type": "markdown",
      "metadata": {
        "id": "P60pYcG6ZJG3"
      },
      "source": [
        "## Task 7\n",
        "\n",
        "Let's practice the basic dataframe functions, accessing the data in different ways."
      ]
    },
    {
      "cell_type": "code",
      "execution_count": null,
      "metadata": {
        "id": "nRdLBngtZJG3",
        "outputId": "1ed622d7-5b1c-4b63-8312-2e2a26088f6b"
      },
      "outputs": [
        {
          "data": {
            "text/plain": [
              "radius\n",
              "1       12.566371\n",
              "2       50.265482\n",
              "3      113.097336\n",
              "4      201.061930\n",
              "5      314.159265\n",
              "6      452.389342\n",
              "7      615.752160\n",
              "8      804.247719\n",
              "9     1017.876020\n",
              "10    1256.637061\n",
              "Name: surface of sphere, dtype: float64"
            ]
          },
          "execution_count": 16,
          "metadata": {},
          "output_type": "execute_result"
        }
      ],
      "source": [
        "\n",
        "# return only the \"surface of sphere\" column\n",
        "df[...]\n"
      ]
    },
    {
      "cell_type": "code",
      "execution_count": null,
      "metadata": {
        "id": "s3OBBE4KZJG3",
        "outputId": "0635c52f-fc03-4e62-f3ab-388fb3cd4668"
      },
      "outputs": [
        {
          "data": {
            "text/plain": [
              "radius                 3.000000\n",
              "diameter               6.000000\n",
              "area of circle        28.274334\n",
              "surface of sphere    113.097336\n",
              "Name: 3, dtype: float64"
            ]
          },
          "execution_count": 17,
          "metadata": {},
          "output_type": "execute_result"
        }
      ],
      "source": [
        "\n",
        "#return the row with radius 3, hint: check loc and iloc\n",
        "df..."
      ]
    },
    {
      "cell_type": "code",
      "execution_count": null,
      "metadata": {
        "id": "tCUegJdyZJG3",
        "outputId": "8a183b67-d47e-46ca-b660-7f64f63bd994"
      },
      "outputs": [
        {
          "data": {
            "text/plain": [
              "radius                 4.000000\n",
              "diameter               8.000000\n",
              "area of circle        50.265482\n",
              "surface of sphere    201.061930\n",
              "Name: 4, dtype: float64"
            ]
          },
          "execution_count": 18,
          "metadata": {},
          "output_type": "execute_result"
        }
      ],
      "source": [
        "\n",
        "#return the 3rd row, hint: check loc and iloc\n",
        "df..."
      ]
    },
    {
      "cell_type": "code",
      "execution_count": null,
      "metadata": {
        "id": "Imdhr7Q-ZJG3",
        "outputId": "c834501a-432e-4bb1-bd39-3f600c2b5795"
      },
      "outputs": [
        {
          "data": {
            "text/plain": [
              "radius\n",
              "1      True\n",
              "2     False\n",
              "3      True\n",
              "4     False\n",
              "5      True\n",
              "6     False\n",
              "7      True\n",
              "8     False\n",
              "9      True\n",
              "10    False\n",
              "Name: radius, dtype: bool"
            ]
          },
          "execution_count": 19,
          "metadata": {},
          "output_type": "execute_result"
        }
      ],
      "source": [
        "\n",
        "# create odd rows filter for the radius column:\n",
        "filter_odds=... % 2 != 0\n",
        "filter_odds\n",
        "# note the series created:"
      ]
    },
    {
      "cell_type": "code",
      "execution_count": null,
      "metadata": {
        "id": "icOplya5ZJG4",
        "outputId": "62c12cc1-0084-4749-a9eb-df808adbb2f8"
      },
      "outputs": [
        {
          "data": {
            "text/html": [
              "<div>\n",
              "<style scoped>\n",
              "    .dataframe tbody tr th:only-of-type {\n",
              "        vertical-align: middle;\n",
              "    }\n",
              "\n",
              "    .dataframe tbody tr th {\n",
              "        vertical-align: top;\n",
              "    }\n",
              "\n",
              "    .dataframe thead th {\n",
              "        text-align: right;\n",
              "    }\n",
              "</style>\n",
              "<table border=\"1\" class=\"dataframe\">\n",
              "  <thead>\n",
              "    <tr style=\"text-align: right;\">\n",
              "      <th></th>\n",
              "      <th>radius</th>\n",
              "      <th>diameter</th>\n",
              "      <th>area of circle</th>\n",
              "      <th>surface of sphere</th>\n",
              "    </tr>\n",
              "    <tr>\n",
              "      <th>radius</th>\n",
              "      <th></th>\n",
              "      <th></th>\n",
              "      <th></th>\n",
              "      <th></th>\n",
              "    </tr>\n",
              "  </thead>\n",
              "  <tbody>\n",
              "    <tr>\n",
              "      <th>1</th>\n",
              "      <td>1</td>\n",
              "      <td>2</td>\n",
              "      <td>NaN</td>\n",
              "      <td>NaN</td>\n",
              "    </tr>\n",
              "    <tr>\n",
              "      <th>2</th>\n",
              "      <td>2</td>\n",
              "      <td>4</td>\n",
              "      <td>12.566371</td>\n",
              "      <td>50.265482</td>\n",
              "    </tr>\n",
              "    <tr>\n",
              "      <th>3</th>\n",
              "      <td>3</td>\n",
              "      <td>6</td>\n",
              "      <td>NaN</td>\n",
              "      <td>NaN</td>\n",
              "    </tr>\n",
              "    <tr>\n",
              "      <th>4</th>\n",
              "      <td>4</td>\n",
              "      <td>8</td>\n",
              "      <td>50.265482</td>\n",
              "      <td>201.061930</td>\n",
              "    </tr>\n",
              "    <tr>\n",
              "      <th>5</th>\n",
              "      <td>5</td>\n",
              "      <td>10</td>\n",
              "      <td>NaN</td>\n",
              "      <td>NaN</td>\n",
              "    </tr>\n",
              "    <tr>\n",
              "      <th>6</th>\n",
              "      <td>6</td>\n",
              "      <td>12</td>\n",
              "      <td>113.097336</td>\n",
              "      <td>452.389342</td>\n",
              "    </tr>\n",
              "    <tr>\n",
              "      <th>7</th>\n",
              "      <td>7</td>\n",
              "      <td>14</td>\n",
              "      <td>NaN</td>\n",
              "      <td>NaN</td>\n",
              "    </tr>\n",
              "    <tr>\n",
              "      <th>8</th>\n",
              "      <td>8</td>\n",
              "      <td>16</td>\n",
              "      <td>201.061930</td>\n",
              "      <td>804.247719</td>\n",
              "    </tr>\n",
              "    <tr>\n",
              "      <th>9</th>\n",
              "      <td>9</td>\n",
              "      <td>18</td>\n",
              "      <td>NaN</td>\n",
              "      <td>NaN</td>\n",
              "    </tr>\n",
              "    <tr>\n",
              "      <th>10</th>\n",
              "      <td>10</td>\n",
              "      <td>20</td>\n",
              "      <td>314.159265</td>\n",
              "      <td>1256.637061</td>\n",
              "    </tr>\n",
              "  </tbody>\n",
              "</table>\n",
              "</div>"
            ],
            "text/plain": [
              "        radius  diameter  area of circle  surface of sphere\n",
              "radius                                                     \n",
              "1            1         2             NaN                NaN\n",
              "2            2         4       12.566371          50.265482\n",
              "3            3         6             NaN                NaN\n",
              "4            4         8       50.265482         201.061930\n",
              "5            5        10             NaN                NaN\n",
              "6            6        12      113.097336         452.389342\n",
              "7            7        14             NaN                NaN\n",
              "8            8        16      201.061930         804.247719\n",
              "9            9        18             NaN                NaN\n",
              "10          10        20      314.159265        1256.637061"
            ]
          },
          "execution_count": 20,
          "metadata": {},
          "output_type": "execute_result"
        }
      ],
      "source": [
        "#wipe out data of odd rows\n",
        "# .loc .... =None will do this for us\n",
        "# put the \"area of circle\" and \"surface of sphere\" rows to have only these columns effect on\n",
        "df.loc[filter_odds,...]=None\n",
        "# as a result you should see NaNs at every odd row\n",
        "df"
      ]
    },
    {
      "cell_type": "code",
      "execution_count": null,
      "metadata": {
        "id": "HOT0UyKwZJG4",
        "outputId": "1c033a43-6437-47a1-85b1-aa99e2cd603f"
      },
      "outputs": [
        {
          "data": {
            "text/html": [
              "<div>\n",
              "<style scoped>\n",
              "    .dataframe tbody tr th:only-of-type {\n",
              "        vertical-align: middle;\n",
              "    }\n",
              "\n",
              "    .dataframe tbody tr th {\n",
              "        vertical-align: top;\n",
              "    }\n",
              "\n",
              "    .dataframe thead th {\n",
              "        text-align: right;\n",
              "    }\n",
              "</style>\n",
              "<table border=\"1\" class=\"dataframe\">\n",
              "  <thead>\n",
              "    <tr style=\"text-align: right;\">\n",
              "      <th></th>\n",
              "      <th>radius</th>\n",
              "      <th>diameter</th>\n",
              "    </tr>\n",
              "    <tr>\n",
              "      <th>radius</th>\n",
              "      <th></th>\n",
              "      <th></th>\n",
              "    </tr>\n",
              "  </thead>\n",
              "  <tbody>\n",
              "    <tr>\n",
              "      <th>1</th>\n",
              "      <td>1</td>\n",
              "      <td>2</td>\n",
              "    </tr>\n",
              "    <tr>\n",
              "      <th>2</th>\n",
              "      <td>2</td>\n",
              "      <td>4</td>\n",
              "    </tr>\n",
              "    <tr>\n",
              "      <th>3</th>\n",
              "      <td>3</td>\n",
              "      <td>6</td>\n",
              "    </tr>\n",
              "    <tr>\n",
              "      <th>4</th>\n",
              "      <td>4</td>\n",
              "      <td>8</td>\n",
              "    </tr>\n",
              "    <tr>\n",
              "      <th>5</th>\n",
              "      <td>5</td>\n",
              "      <td>10</td>\n",
              "    </tr>\n",
              "    <tr>\n",
              "      <th>6</th>\n",
              "      <td>6</td>\n",
              "      <td>12</td>\n",
              "    </tr>\n",
              "    <tr>\n",
              "      <th>7</th>\n",
              "      <td>7</td>\n",
              "      <td>14</td>\n",
              "    </tr>\n",
              "    <tr>\n",
              "      <th>8</th>\n",
              "      <td>8</td>\n",
              "      <td>16</td>\n",
              "    </tr>\n",
              "    <tr>\n",
              "      <th>9</th>\n",
              "      <td>9</td>\n",
              "      <td>18</td>\n",
              "    </tr>\n",
              "    <tr>\n",
              "      <th>10</th>\n",
              "      <td>10</td>\n",
              "      <td>20</td>\n",
              "    </tr>\n",
              "  </tbody>\n",
              "</table>\n",
              "</div>"
            ],
            "text/plain": [
              "        radius  diameter\n",
              "radius                  \n",
              "1            1         2\n",
              "2            2         4\n",
              "3            3         6\n",
              "4            4         8\n",
              "5            5        10\n",
              "6            6        12\n",
              "7            7        14\n",
              "8            8        16\n",
              "9            9        18\n",
              "10          10        20"
            ]
          },
          "execution_count": 21,
          "metadata": {},
          "output_type": "execute_result"
        }
      ],
      "source": [
        "# Let's drop the two columns: area of circle, surface of sphere\n",
        "# you have to find out the function name, the input parameter, and the axis\n",
        "df. ...(..., axis=...,inplace=True)\n",
        "df\n",
        "\n",
        "# Please note the inplace=True attribute setting. Play around with it, set it to False.\n",
        "# check what happens? and why?"
      ]
    },
    {
      "cell_type": "markdown",
      "metadata": {
        "id": "HZNqT0f8ZJG4"
      },
      "source": [
        "## A shortcut\n",
        "For your information we could do this in one step. "
      ]
    },
    {
      "cell_type": "code",
      "execution_count": null,
      "metadata": {
        "id": "9gQAMVBBZJG4",
        "outputId": "5eea0d20-51cf-4408-da44-144a9ecb5dce"
      },
      "outputs": [
        {
          "data": {
            "text/html": [
              "<div>\n",
              "<style scoped>\n",
              "    .dataframe tbody tr th:only-of-type {\n",
              "        vertical-align: middle;\n",
              "    }\n",
              "\n",
              "    .dataframe tbody tr th {\n",
              "        vertical-align: top;\n",
              "    }\n",
              "\n",
              "    .dataframe thead th {\n",
              "        text-align: right;\n",
              "    }\n",
              "</style>\n",
              "<table border=\"1\" class=\"dataframe\">\n",
              "  <thead>\n",
              "    <tr style=\"text-align: right;\">\n",
              "      <th></th>\n",
              "      <th>radius</th>\n",
              "      <th>diameter</th>\n",
              "      <th>area of circle</th>\n",
              "      <th>surface of sphere</th>\n",
              "    </tr>\n",
              "    <tr>\n",
              "      <th>radius</th>\n",
              "      <th></th>\n",
              "      <th></th>\n",
              "      <th></th>\n",
              "      <th></th>\n",
              "    </tr>\n",
              "  </thead>\n",
              "  <tbody>\n",
              "    <tr>\n",
              "      <th>1</th>\n",
              "      <td>1</td>\n",
              "      <td>2</td>\n",
              "      <td>NaN</td>\n",
              "      <td>NaN</td>\n",
              "    </tr>\n",
              "    <tr>\n",
              "      <th>2</th>\n",
              "      <td>2</td>\n",
              "      <td>4</td>\n",
              "      <td>12.566371</td>\n",
              "      <td>50.265482</td>\n",
              "    </tr>\n",
              "    <tr>\n",
              "      <th>3</th>\n",
              "      <td>3</td>\n",
              "      <td>6</td>\n",
              "      <td>NaN</td>\n",
              "      <td>NaN</td>\n",
              "    </tr>\n",
              "    <tr>\n",
              "      <th>4</th>\n",
              "      <td>4</td>\n",
              "      <td>8</td>\n",
              "      <td>50.265482</td>\n",
              "      <td>201.061930</td>\n",
              "    </tr>\n",
              "    <tr>\n",
              "      <th>5</th>\n",
              "      <td>5</td>\n",
              "      <td>10</td>\n",
              "      <td>NaN</td>\n",
              "      <td>NaN</td>\n",
              "    </tr>\n",
              "    <tr>\n",
              "      <th>6</th>\n",
              "      <td>6</td>\n",
              "      <td>12</td>\n",
              "      <td>113.097336</td>\n",
              "      <td>452.389342</td>\n",
              "    </tr>\n",
              "    <tr>\n",
              "      <th>7</th>\n",
              "      <td>7</td>\n",
              "      <td>14</td>\n",
              "      <td>NaN</td>\n",
              "      <td>NaN</td>\n",
              "    </tr>\n",
              "    <tr>\n",
              "      <th>8</th>\n",
              "      <td>8</td>\n",
              "      <td>16</td>\n",
              "      <td>201.061930</td>\n",
              "      <td>804.247719</td>\n",
              "    </tr>\n",
              "    <tr>\n",
              "      <th>9</th>\n",
              "      <td>9</td>\n",
              "      <td>18</td>\n",
              "      <td>NaN</td>\n",
              "      <td>NaN</td>\n",
              "    </tr>\n",
              "    <tr>\n",
              "      <th>10</th>\n",
              "      <td>10</td>\n",
              "      <td>20</td>\n",
              "      <td>314.159265</td>\n",
              "      <td>1256.637061</td>\n",
              "    </tr>\n",
              "  </tbody>\n",
              "</table>\n",
              "</div>"
            ],
            "text/plain": [
              "        radius  diameter  area of circle  surface of sphere\n",
              "radius                                                     \n",
              "1            1         2             NaN                NaN\n",
              "2            2         4       12.566371          50.265482\n",
              "3            3         6             NaN                NaN\n",
              "4            4         8       50.265482         201.061930\n",
              "5            5        10             NaN                NaN\n",
              "6            6        12      113.097336         452.389342\n",
              "7            7        14             NaN                NaN\n",
              "8            8        16      201.061930         804.247719\n",
              "9            9        18             NaN                NaN\n",
              "10          10        20      314.159265        1256.637061"
            ]
          },
          "execution_count": 22,
          "metadata": {},
          "output_type": "execute_result"
        }
      ],
      "source": [
        "#nothing to implement here\n",
        "# For your information we could do this in one step: check the code and see how it is doing it\n",
        "df[\"area of circle\"] = df[\"radius\"].map(lambda x: area_of_circle_func(x) if (x % 2==0) else None)\n",
        "df[\"surface of sphere\"] = df[\"radius\"].map(lambda x: sphere_surface_func(x) if (x % 2==0) else None)\n",
        "\n",
        "df"
      ]
    },
    {
      "cell_type": "code",
      "execution_count": null,
      "metadata": {
        "id": "dzXCxIW2ZJG4"
      },
      "outputs": [],
      "source": [
        ""
      ]
    },
    {
      "cell_type": "code",
      "execution_count": null,
      "metadata": {
        "id": "2EbA062bZJG4"
      },
      "outputs": [],
      "source": [
        ""
      ]
    }
  ],
  "metadata": {
    "kernelspec": {
      "display_name": "Python 3",
      "language": "python",
      "name": "python3"
    },
    "language_info": {
      "codemirror_mode": {
        "name": "ipython",
        "version": 3
      },
      "file_extension": ".py",
      "mimetype": "text/x-python",
      "name": "python",
      "nbconvert_exporter": "python",
      "pygments_lexer": "ipython3",
      "version": "3.7.9"
    },
    "toc": {
      "base_numbering": 1,
      "nav_menu": {},
      "number_sections": true,
      "sideBar": true,
      "skip_h1_title": false,
      "title_cell": "Table of Contents",
      "title_sidebar": "Contents",
      "toc_cell": false,
      "toc_position": {},
      "toc_section_display": true,
      "toc_window_display": false
    },
    "varInspector": {
      "cols": {
        "lenName": 16,
        "lenType": 16,
        "lenVar": 40
      },
      "kernels_config": {
        "python": {
          "delete_cmd_postfix": "",
          "delete_cmd_prefix": "del ",
          "library": "var_list.py",
          "varRefreshCmd": "print(var_dic_list())"
        },
        "r": {
          "delete_cmd_postfix": ") ",
          "delete_cmd_prefix": "rm(",
          "library": "var_list.r",
          "varRefreshCmd": "cat(var_dic_list()) "
        }
      },
      "types_to_exclude": [
        "module",
        "function",
        "builtin_function_or_method",
        "instance",
        "_Feature"
      ],
      "window_display": false
    },
    "colab": {
      "name": "Day1-Task_0-handout.ipynb",
      "provenance": [],
      "include_colab_link": true
    }
  },
  "nbformat": 4,
  "nbformat_minor": 0
}