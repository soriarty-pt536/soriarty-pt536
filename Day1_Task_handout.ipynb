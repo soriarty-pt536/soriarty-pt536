{
  "cells": [
    {
      "cell_type": "markdown",
      "metadata": {
        "id": "view-in-github",
        "colab_type": "text"
      },
      "source": [
        "<a href=\"https://colab.research.google.com/github/soriarty-pt536/soriarty-pt536/blob/main/Day1_Task_handout.ipynb\" target=\"_parent\"><img src=\"https://colab.research.google.com/assets/colab-badge.svg\" alt=\"Open In Colab\"/></a>"
      ]
    },
    {
      "cell_type": "markdown",
      "metadata": {
        "id": "2dRbIQaXZNgN"
      },
      "source": [
        "# Python functions, objects and classes"
      ]
    },
    {
      "cell_type": "markdown",
      "metadata": {
        "id": "4eRTnOinZNgQ"
      },
      "source": [
        "## Task 1\n",
        "Please use the function defined below to print out the text \"Hello my friend\"!"
      ]
    },
    {
      "cell_type": "code",
      "execution_count": null,
      "metadata": {
        "id": "1dof8a1_ZNgQ"
      },
      "outputs": [],
      "source": [
        "#define a function named hello, that accepts a named parameter \"who\" and prints \n",
        "#out \"Hello\" and the incoming string concateneted\n",
        "\n"
      ]
    },
    {
      "cell_type": "code",
      "execution_count": null,
      "metadata": {
        "id": "2WZ6biyTZNgR"
      },
      "outputs": [],
      "source": [
        "hello(\"my friend\")"
      ]
    },
    {
      "cell_type": "markdown",
      "metadata": {
        "id": "SUQ5MfO5ZNgS"
      },
      "source": [
        "## Task 2"
      ]
    },
    {
      "cell_type": "code",
      "execution_count": null,
      "metadata": {
        "id": "e2i1kBijZNgS"
      },
      "outputs": [],
      "source": [
        "class AbstractShape:\n",
        "    \"\"\"A class representing planar figures.\n",
        "    \"\"\"\n",
        "    \n",
        "    def __init__(self, centerx, centery, color=\"black\"):\n",
        "        \"\"\"Initialize a shape.\n",
        "        \n",
        "        Args:\n",
        "            centerx: The x coordinate of the shape's center.\n",
        "            centery: The y coordinate of the shape's center.\n",
        "            color (str): The shape's color.\n",
        "        \"\"\"\n",
        "        self.centerx = centerx\n",
        "        self.centery = centery\n",
        "        self.color = color\n",
        "        \n",
        "    def move_by(self, dx, dy):\n",
        "        \"\"\"Move the shape by the given distances.\n",
        "        \n",
        "        Args:\n",
        "            dx: Movement along the x axis.\n",
        "            dy: Movement along the y axis.\n",
        "            \n",
        "        Returns:\n",
        "            None\n",
        "        \"\"\"\n",
        "        self.centerx += dx\n",
        "        self.centery += dy\n",
        "        \n",
        "    def area(self):\n",
        "        \"\"\"Return the area of the shape\n",
        "        \"\"\"\n",
        "        raise NotImplementedError # Raise an exception if a class simply inherits without implementing"
      ]
    },
    {
      "cell_type": "code",
      "execution_count": null,
      "metadata": {
        "id": "csPVao4TZNgT"
      },
      "outputs": [],
      "source": [
        "# Define a Circle class that inherits form AbstractShape\n",
        "# Accepts one more parameter for radius\n",
        "# implement the \"area\" function, that calculates the area of the circle\n",
        "# use the math library imported below\n",
        "\n",
        "from math import pi # We will need pi for calculating the area\n",
        "\n",
        "class Circle(AbstractShape):\n",
        "    \"\"\"A class representing a circle.    \n",
        "    \"\"\"\n",
        "    \n",
        "    def __init__(...\n",
        "                 # You have to correct the init here!\n",
        "        \n",
        "                 \n",
        "                 \n",
        "                 \n",
        "    #The function area needs to be implemented here\n",
        "                 \n",
        "    \n",
        "    # This is an additional property of the class, illustrating the usage of decorators in Python\n",
        "    # https://realpython.com/primer-on-python-decorators/\n",
        "    # Property is a special type of decorator\n",
        "    # https://www.programiz.com/python-programming/property\n",
        "    @property\n",
        "    def diameter(self):\n",
        "        \"\"\"Return the circle's diameter.\n",
        "        \"\"\"\n",
        "        return 2 * self.radius\n",
        "                 \n",
        "    #Setter is another tpye of reserved property\n",
        "    # https://www.python-course.eu/python3_properties.php\n",
        "    @diameter.setter\n",
        "    def diameter(self, diameter):\n",
        "        \"\"\"Set the diameter to the givem size.\n",
        "        \"\"\"\n",
        "        self.radius = diameter / 2\n",
        "    \n",
        "    #Repr is a default function that implements the printed representation of the class\n",
        "    def __repr__(self):\n",
        "        \"\"\"Return the string representation of the circle.\n",
        "        \"\"\"\n",
        "        return f\"Circle({self.centerx}, {self.centery}, {self.radius}, '{self.color}')\""
      ]
    },
    {
      "cell_type": "code",
      "execution_count": null,
      "metadata": {
        "id": "NSkblqfoZNgU"
      },
      "outputs": [],
      "source": [
        "# ok, we also need the square root function, import it here please \n",
        "from ...\n",
        "\n",
        "# Implement the rectangle class, which acts as name implies\n",
        "# it has an area function as well, but naturally for a rectangle\n",
        "# it has widht and heights parameters in _init_, as well as the defualt ones\n",
        "class Rectangle(AbstractShape):\n",
        "    \"\"\"A class representing a rectangle.\n",
        "    \n",
        "    The sides are assumed to be parallel with the X and Y axis.\n",
        "    \"\"\"\n",
        "    \n",
        "    def __init__(...\n",
        "                 #Implement the __init__ here\n",
        "        \n",
        "    def area(self):\n",
        "        return self.width * self.height\n",
        "    \n",
        "    \n",
        "    #implement the diagonal property of the class here\n",
        "    \n",
        "    \n",
        "    def __repr__(self):\n",
        "        \"\"\"Return the string representation of the rectangle.\n",
        "        \"\"\"\n",
        "        # Implement a nice printout here"
      ]
    },
    {
      "cell_type": "code",
      "execution_count": null,
      "metadata": {
        "id": "9dIcpm17ZNgV"
      },
      "outputs": [],
      "source": [
        "r = Rectangle(0, 0, 4, 3)\n",
        "r"
      ]
    },
    {
      "cell_type": "code",
      "execution_count": null,
      "metadata": {
        "id": "sUK7fvnjZNgV"
      },
      "outputs": [],
      "source": [
        "r.diagonal"
      ]
    },
    {
      "cell_type": "code",
      "execution_count": null,
      "metadata": {
        "id": "ey8JWWyoZNgW"
      },
      "outputs": [],
      "source": [
        "r.area()"
      ]
    },
    {
      "cell_type": "code",
      "execution_count": null,
      "metadata": {
        "id": "eKE_7AapZNgW"
      },
      "outputs": [],
      "source": [
        "r.move_by(1,1)\n",
        "r"
      ]
    },
    {
      "cell_type": "code",
      "execution_count": null,
      "metadata": {
        "id": "iJfd1jnfZNgW"
      },
      "outputs": [],
      "source": [
        "c = Circle(0,0,3, \"red\")\n",
        "print(c)\n",
        "c.area()"
      ]
    },
    {
      "cell_type": "code",
      "execution_count": null,
      "metadata": {
        "id": "NJOk62LLZNgX"
      },
      "outputs": [],
      "source": [
        "c.diameter = 20\n",
        "c"
      ]
    },
    {
      "cell_type": "markdown",
      "metadata": {
        "id": "ILV-MRO9ZNgX"
      },
      "source": [
        "# Pandas basics\n",
        "\n",
        "## Reading the data\n",
        "\n",
        "The dataset we will be using contains data about [Abalone shells](https://en.wikipedia.org/wiki/Abalone). (With some noise graciously added by us :-P\n",
        "\n",
        "<img src=\"https://upload.wikimedia.org/wikipedia/commons/thumb/4/4d/Haliotis_clathrata_01.JPG/367px-Haliotis_clathrata_01.JPG\">\n"
      ]
    },
    {
      "cell_type": "code",
      "execution_count": null,
      "metadata": {
        "id": "K0rW2UmCZNgX"
      },
      "outputs": [],
      "source": [
        "!wget https://gitlab.com/andras.simonyi/10_days_AI_training_data/raw/master/abalone.csv?inline=false -O abalone.csv"
      ]
    },
    {
      "cell_type": "markdown",
      "metadata": {
        "id": "p6jDJkhIZNgX"
      },
      "source": [
        "\n",
        "The data is in the file \"abalone.csv\".\n",
        "\n",
        "**General info**\n",
        "\n",
        ">Predicting the age of abalone from physical measurements.  The age of\n",
        "   abalone is determined by cutting the shell through the cone, staining it,\n",
        "   and counting the number of rings through a microscope -- a boring and\n",
        "   time-consuming task.  Other measurements, which are easier to obtain, are\n",
        "   used to predict the age.  Further information, such as weather patterns\n",
        "   and location (hence food availability) may be required to solve the problem.\n",
        "   From the original data examples with missing values were removed (the\n",
        "   majority having the predicted value missing), and the ranges of the\n",
        "   continuous values have been scaled for use with an ANN (by dividing by 200).\n",
        "\n",
        "\n",
        "**Field info**\n",
        "\n",
        ">Sex / nominal / -- / M, F, and I (infant)\n",
        "\n",
        "> Length / continuous / mm / Longest shell measurement\n",
        "\n",
        "> Diameter / continuous / mm / perpendicular to length\n",
        "\n",
        "> Height / continuous / mm / with meat in shell\n",
        "> Whole weight / continuous / grams / whole abalone\n",
        "\n",
        "> Shucked weight / continuous / grams / weight of meat\n",
        "\n",
        "> Viscera weight / continuous / grams / gut weight\n",
        "\n",
        "> Shell weight / continuous / grams / after being dried\n",
        "\n",
        "> Rings / integer / -- / +1.5 gives the age in years "
      ]
    },
    {
      "cell_type": "code",
      "execution_count": null,
      "metadata": {
        "id": "_5IVjZsiZNgY"
      },
      "outputs": [],
      "source": [
        "import pandas as pd\n",
        "\n",
        "# implement the \"abalone.csv\" file using Pandas's read_csv function\n",
        "# https://pandas.pydata.org/pandas-docs/stable/generated/pandas.read_csv.html\n",
        "# bear in mind, the the format of the csv _can be different_ from default\n",
        "# when in doubt, you can use the head shell command with the ! syntax\n",
        "# https://ss64.com/bash/head.html\n",
        "# Or the Colab file viewer\n",
        "\n",
        "df = \n",
        "\n",
        "df.head()"
      ]
    },
    {
      "cell_type": "code",
      "execution_count": null,
      "metadata": {
        "id": "z8Mncsq2ZNgY"
      },
      "outputs": [],
      "source": [
        "# We assert the fact that the shape of the DataFrame is appropriate\n",
        "# If this expression evaluates to false, it throws an exception\n",
        "assert df.shape==(4177, 9)\n",
        "\n",
        "df.shape"
      ]
    },
    {
      "cell_type": "markdown",
      "metadata": {
        "id": "RHeY9Dv5ZNgY"
      },
      "source": [
        "## Fixing the column names\n",
        "\n",
        "Fix the column names to be able to use \"dot syntax\" for columns."
      ]
    },
    {
      "cell_type": "code",
      "execution_count": null,
      "metadata": {
        "id": "KCgfyujxZNgY"
      },
      "outputs": [],
      "source": [
        "def normalize_columnname(h):\n",
        "    \"\"\"Normalize a column name by downcasing and replacing spaces with '_'.\n",
        "    \"\"\"\n",
        "   # Implement the column name normalizer\n",
        "   # use the default Python string functions\n",
        "   # https://docs.python.org/2/library/string.html\n",
        "\n",
        "df.rename(columns=normalize_columnname, inplace=True)\n",
        "df.rename(columns=str.lower, inplace=True)\n",
        "df.head()"
      ]
    },
    {
      "cell_type": "code",
      "execution_count": null,
      "metadata": {
        "id": "MOMlJe3zZNgZ"
      },
      "outputs": [],
      "source": [
        "df.whole_weight.head()"
      ]
    },
    {
      "cell_type": "markdown",
      "metadata": {
        "id": "0N5QIl0MZNgZ"
      },
      "source": [
        "## Check and handle missing data\n",
        "\n",
        "Check whether there are missing data."
      ]
    },
    {
      "cell_type": "code",
      "execution_count": null,
      "metadata": {
        "id": "cLKTAqtrZNgZ"
      },
      "outputs": [],
      "source": [
        "# look for missing values in the df\n",
        "# use the isnull() function, and some counting method of Pandas df\n"
      ]
    },
    {
      "cell_type": "markdown",
      "metadata": {
        "id": "dBffCoddZNgZ"
      },
      "source": [
        "Drop rows with NaN values."
      ]
    },
    {
      "cell_type": "code",
      "execution_count": null,
      "metadata": {
        "id": "abzhYp4sZNgZ"
      },
      "outputs": [],
      "source": [
        "assert df.shape==(4177,9)\n",
        "\n",
        "# Drop the rows with missing values from the df\n",
        "# bear in mind the return value syntax vs the parameter for executing the operation on the df itself\n",
        "\n",
        "\n",
        "# this is just additional \"tidying\"\n",
        "df.reset_index(inplace=True, drop=True) # Reset index since dropped rows create \"holes\"\n",
        "\n",
        "assert df.shape==(4171,9)\n",
        "df.shape"
      ]
    },
    {
      "cell_type": "markdown",
      "metadata": {
        "id": "yYo-j8szZNgZ"
      },
      "source": [
        "## Convert floats to int"
      ]
    },
    {
      "cell_type": "code",
      "execution_count": null,
      "metadata": {
        "id": "MIatud2dZNgZ"
      },
      "outputs": [],
      "source": [
        "#convert the float value of the \"rings\" column to an integer, since who saw any partial rings anyway? :-)\n",
        "\n",
        "#And let's look at it\n",
        "df.head()"
      ]
    },
    {
      "cell_type": "markdown",
      "metadata": {
        "id": "GBygsF7_ZNga"
      },
      "source": [
        "## Descriptives"
      ]
    },
    {
      "cell_type": "code",
      "execution_count": null,
      "metadata": {
        "id": "7rWRHj2PZNga"
      },
      "outputs": [],
      "source": [
        "df.describe()"
      ]
    },
    {
      "cell_type": "code",
      "execution_count": null,
      "metadata": {
        "id": "ZBqxo2uJZNga"
      },
      "outputs": [],
      "source": [
        "# Describe the \"sex\" column and look at the values\n"
      ]
    },
    {
      "cell_type": "markdown",
      "metadata": {
        "id": "mm94oCs-ZNga"
      },
      "source": [
        "Find the index of the examples with the maximal and minimal values."
      ]
    },
    {
      "cell_type": "code",
      "execution_count": null,
      "metadata": {
        "id": "tRnqDMR-ZNga"
      },
      "outputs": [],
      "source": [
        "# find the row indices with the largest values in them, from the \"height\" parameter onwards till the end\n",
        "# bear in mind that multiple versions of \"max\" exist in Pandas\n",
        "# and getting the location can be done also in multiple ways\n",
        "\n"
      ]
    },
    {
      "cell_type": "code",
      "execution_count": null,
      "metadata": {
        "id": "KZcB49QvZNga"
      },
      "outputs": [],
      "source": [
        "df.loc[1422]"
      ]
    },
    {
      "cell_type": "markdown",
      "metadata": {
        "id": "K1YAjRaPZNga"
      },
      "source": [
        "## Standardization"
      ]
    },
    {
      "cell_type": "code",
      "execution_count": null,
      "metadata": {
        "id": "J7n8HFrvZNga"
      },
      "outputs": [],
      "source": [
        "# we create a new df for the numeric values that we think need normalization \n",
        "df_numeric = df.loc[:,\"length\":\"shell_weight\"]\n",
        "df_numeric.head()"
      ]
    },
    {
      "cell_type": "code",
      "execution_count": null,
      "metadata": {
        "id": "OZBdlR-oZNgb"
      },
      "outputs": [],
      "source": [
        "# Calculate the mean of the df_numeric in one go\n",
        "# If done right, this will be a Pandas.Series obejct (a kind of vector) of means\n",
        "mean = \n",
        "\n",
        "# Calculate the standard deviation of the df_numeric in one go\n",
        "# If done right, this will be a Pandas.Series obejct (a kind of vector) of std\n",
        "std = \n",
        "\n",
        "# Now we apply the two Series calculated for normalization in one go for the whole df \n",
        "df_numeric_std = (df_numeric - mean) / std\n",
        "df_numeric_std.head()"
      ]
    },
    {
      "cell_type": "code",
      "execution_count": null,
      "metadata": {
        "id": "uQ8TXrtqZNgb"
      },
      "outputs": [],
      "source": [
        "df_numeric_std.describe()"
      ]
    },
    {
      "cell_type": "code",
      "execution_count": null,
      "metadata": {
        "id": "lfAKbI8uZNgb"
      },
      "outputs": [],
      "source": [
        "df.loc[:,\"length\":\"shell_weight\"] = df_numeric_std\n",
        "df.head()"
      ]
    },
    {
      "cell_type": "code",
      "execution_count": null,
      "metadata": {
        "id": "dcp28CjYZNgb"
      },
      "outputs": [],
      "source": [
        "df.describe()"
      ]
    },
    {
      "cell_type": "markdown",
      "metadata": {
        "id": "S8MtnnYiZNgb"
      },
      "source": [
        "# Basic plotting"
      ]
    },
    {
      "cell_type": "code",
      "execution_count": null,
      "metadata": {
        "id": "QGKv6RPbZNgb"
      },
      "outputs": [],
      "source": [
        "df.length.plot.box(figsize=(8,8)); # the semicolon is to stop Jupyter from \"printing\" the figure as well\n",
        "# This is a verbose syntax, the alternative is also viable: df.length.boxplot() "
      ]
    },
    {
      "cell_type": "code",
      "execution_count": null,
      "metadata": {
        "id": "izb4TgZLZNgb"
      },
      "outputs": [],
      "source": [
        "# Do a histogram with 20 bins for the \"length\" data"
      ]
    },
    {
      "cell_type": "code",
      "execution_count": null,
      "metadata": {
        "id": "PhKwLhUzZNgb"
      },
      "outputs": [],
      "source": [
        "# implement a scatter plot between \"length\" and \"rings\", use figure size 8,8\n"
      ]
    }
  ],
  "metadata": {
    "kernelspec": {
      "display_name": "Python 3",
      "language": "python",
      "name": "python3"
    },
    "language_info": {
      "codemirror_mode": {
        "name": "ipython",
        "version": 3
      },
      "file_extension": ".py",
      "mimetype": "text/x-python",
      "name": "python",
      "nbconvert_exporter": "python",
      "pygments_lexer": "ipython3",
      "version": "3.6.9"
    },
    "toc": {
      "base_numbering": 1,
      "nav_menu": {},
      "number_sections": true,
      "sideBar": true,
      "skip_h1_title": false,
      "title_cell": "Table of Contents",
      "title_sidebar": "Contents",
      "toc_cell": false,
      "toc_position": {
        "height": "calc(100% - 180px)",
        "left": "10px",
        "top": "150px",
        "width": "165px"
      },
      "toc_section_display": true,
      "toc_window_display": false
    },
    "varInspector": {
      "cols": {
        "lenName": 16,
        "lenType": 16,
        "lenVar": 40
      },
      "kernels_config": {
        "python": {
          "delete_cmd_postfix": "",
          "delete_cmd_prefix": "del ",
          "library": "var_list.py",
          "varRefreshCmd": "print(var_dic_list())"
        },
        "r": {
          "delete_cmd_postfix": ") ",
          "delete_cmd_prefix": "rm(",
          "library": "var_list.r",
          "varRefreshCmd": "cat(var_dic_list()) "
        }
      },
      "position": {
        "height": "544px",
        "left": "1549px",
        "right": "7px",
        "top": "103px",
        "width": "362px"
      },
      "types_to_exclude": [
        "module",
        "function",
        "builtin_function_or_method",
        "instance",
        "_Feature"
      ],
      "window_display": false
    },
    "colab": {
      "name": "Day1-Task_handout.ipynb",
      "provenance": [],
      "include_colab_link": true
    }
  },
  "nbformat": 4,
  "nbformat_minor": 0
}